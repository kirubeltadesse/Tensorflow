{
 "cells": [
  {
   "cell_type": "code",
   "execution_count": 1,
   "metadata": {},
   "outputs": [],
   "source": [
    "import tensorflow as tf\n",
    "import numpy as np"
   ]
  },
  {
   "cell_type": "code",
   "execution_count": 4,
   "metadata": {},
   "outputs": [],
   "source": [
    "X_train = (np.random.sample((10000,5)))\n",
    "y_train = (np.random.sample((10000,1)))"
   ]
  },
  {
   "cell_type": "code",
   "execution_count": 8,
   "metadata": {},
   "outputs": [
    {
     "name": "stdout",
     "output_type": "stream",
     "text": [
      "INFO:tensorflow:Using default config.\n",
      "INFO:tensorflow:Using config: {'_model_dir': 'train/linreg', '_tf_random_seed': None, '_save_summary_steps': 100, '_save_checkpoints_steps': None, '_save_checkpoints_secs': 600, '_session_config': allow_soft_placement: true\n",
      "graph_options {\n",
      "  rewrite_options {\n",
      "    meta_optimizer_iterations: ONE\n",
      "  }\n",
      "}\n",
      ", '_keep_checkpoint_max': 5, '_keep_checkpoint_every_n_hours': 10000, '_log_step_count_steps': 100, '_train_distribute': None, '_device_fn': None, '_protocol': None, '_eval_distribute': None, '_experimental_distribute': None, '_service': None, '_cluster_spec': <tensorflow.python.training.server_lib.ClusterSpec object at 0x7f57b7b5be10>, '_task_type': 'worker', '_task_id': 0, '_global_id_in_cluster': 0, '_master': '', '_evaluation_master': '', '_is_chief': True, '_num_ps_replicas': 0, '_num_worker_replicas': 1}\n"
     ]
    }
   ],
   "source": [
    "feature_columns = [\n",
    "    tf.feature_column.numeric_column('x', shape=X_train.shape[1:])]\n",
    "DNN_reg = tf.estimator.DNNRegressor(feature_columns=feature_columns,\n",
    "                                   #Indicate where to store the log file\n",
    "                                   model_dir ='train/linreg',\n",
    "                                   hidden_units = [500, 300],\n",
    "                                   optimizer=tf.train.ProximalAdagradOptimizer(\n",
    "                                       learning_rate=0.1,\n",
    "                                       l1_regularization_strength=0.001\n",
    "                                   )\n",
    "                                )"
   ]
  },
  {
   "cell_type": "code",
   "execution_count": 9,
   "metadata": {},
   "outputs": [
    {
     "name": "stdout",
     "output_type": "stream",
     "text": [
      "WARNING:tensorflow:From /home/kirubel/miniconda3/envs/CSLabs/lib/python3.7/site-packages/tensorflow/python/framework/op_def_library.py:263: colocate_with (from tensorflow.python.framework.ops) is deprecated and will be removed in a future version.\n",
      "Instructions for updating:\n",
      "Colocations handled automatically by placer.\n",
      "WARNING:tensorflow:From /home/kirubel/miniconda3/envs/CSLabs/lib/python3.7/site-packages/tensorflow_estimator/python/estimator/inputs/queues/feeding_queue_runner.py:62: QueueRunner.__init__ (from tensorflow.python.training.queue_runner_impl) is deprecated and will be removed in a future version.\n",
      "Instructions for updating:\n",
      "To construct input pipelines, use the `tf.data` module.\n",
      "WARNING:tensorflow:From /home/kirubel/miniconda3/envs/CSLabs/lib/python3.7/site-packages/tensorflow_estimator/python/estimator/inputs/queues/feeding_functions.py:500: add_queue_runner (from tensorflow.python.training.queue_runner_impl) is deprecated and will be removed in a future version.\n",
      "Instructions for updating:\n",
      "To construct input pipelines, use the `tf.data` module.\n",
      "INFO:tensorflow:Calling model_fn.\n",
      "WARNING:tensorflow:From /home/kirubel/miniconda3/envs/CSLabs/lib/python3.7/site-packages/tensorflow/python/feature_column/feature_column_v2.py:2703: to_float (from tensorflow.python.ops.math_ops) is deprecated and will be removed in a future version.\n",
      "Instructions for updating:\n",
      "Use tf.cast instead.\n",
      "INFO:tensorflow:Done calling model_fn.\n",
      "INFO:tensorflow:Create CheckpointSaverHook.\n",
      "INFO:tensorflow:Graph was finalized.\n",
      "INFO:tensorflow:Running local_init_op.\n",
      "INFO:tensorflow:Done running local_init_op.\n",
      "WARNING:tensorflow:From /home/kirubel/miniconda3/envs/CSLabs/lib/python3.7/site-packages/tensorflow/python/training/monitored_session.py:809: start_queue_runners (from tensorflow.python.training.queue_runner_impl) is deprecated and will be removed in a future version.\n",
      "Instructions for updating:\n",
      "To construct input pipelines, use the `tf.data` module.\n",
      "INFO:tensorflow:Saving checkpoints for 0 into train/linreg/model.ckpt.\n",
      "INFO:tensorflow:loss = 41.26726, step = 1\n",
      "INFO:tensorflow:global_step/sec: 138.954\n",
      "INFO:tensorflow:loss = 10.231918, step = 101 (0.722 sec)\n",
      "INFO:tensorflow:global_step/sec: 200.496\n",
      "INFO:tensorflow:loss = 11.419071, step = 201 (0.498 sec)\n",
      "INFO:tensorflow:global_step/sec: 158.893\n",
      "INFO:tensorflow:loss = 10.397129, step = 301 (0.629 sec)\n",
      "INFO:tensorflow:global_step/sec: 141.834\n",
      "INFO:tensorflow:loss = 10.19017, step = 401 (0.705 sec)\n",
      "INFO:tensorflow:global_step/sec: 146.243\n",
      "INFO:tensorflow:loss = 9.7569475, step = 501 (0.687 sec)\n",
      "INFO:tensorflow:global_step/sec: 134.208\n",
      "INFO:tensorflow:loss = 11.342216, step = 601 (0.741 sec)\n",
      "INFO:tensorflow:global_step/sec: 107.588\n",
      "INFO:tensorflow:loss = 9.454609, step = 701 (0.929 sec)\n",
      "INFO:tensorflow:global_step/sec: 150.275\n",
      "INFO:tensorflow:loss = 9.348782, step = 801 (0.666 sec)\n",
      "INFO:tensorflow:global_step/sec: 205.298\n",
      "INFO:tensorflow:loss = 10.056297, step = 901 (0.486 sec)\n",
      "INFO:tensorflow:global_step/sec: 153.598\n",
      "INFO:tensorflow:loss = 10.99913, step = 1001 (0.651 sec)\n",
      "INFO:tensorflow:global_step/sec: 147.67\n",
      "INFO:tensorflow:loss = 11.3468, step = 1101 (0.677 sec)\n",
      "INFO:tensorflow:global_step/sec: 147.84\n",
      "INFO:tensorflow:loss = 9.440149, step = 1201 (0.677 sec)\n",
      "INFO:tensorflow:global_step/sec: 155.923\n",
      "INFO:tensorflow:loss = 10.072819, step = 1301 (0.641 sec)\n",
      "INFO:tensorflow:global_step/sec: 144.852\n",
      "INFO:tensorflow:loss = 9.710279, step = 1401 (0.691 sec)\n",
      "INFO:tensorflow:global_step/sec: 153.427\n",
      "INFO:tensorflow:loss = 10.902044, step = 1501 (0.651 sec)\n",
      "INFO:tensorflow:global_step/sec: 159.82\n",
      "INFO:tensorflow:loss = 9.773579, step = 1601 (0.626 sec)\n",
      "INFO:tensorflow:global_step/sec: 195.891\n",
      "INFO:tensorflow:loss = 11.532902, step = 1701 (0.510 sec)\n",
      "INFO:tensorflow:global_step/sec: 149.929\n",
      "INFO:tensorflow:loss = 9.480221, step = 1801 (0.667 sec)\n",
      "INFO:tensorflow:global_step/sec: 154.233\n",
      "INFO:tensorflow:loss = 11.030731, step = 1901 (0.649 sec)\n",
      "INFO:tensorflow:global_step/sec: 152.375\n",
      "INFO:tensorflow:loss = 10.968134, step = 2001 (0.656 sec)\n",
      "INFO:tensorflow:global_step/sec: 162.268\n",
      "INFO:tensorflow:loss = 10.694853, step = 2101 (0.617 sec)\n",
      "INFO:tensorflow:global_step/sec: 161.912\n",
      "INFO:tensorflow:loss = 9.462554, step = 2201 (0.620 sec)\n",
      "INFO:tensorflow:global_step/sec: 151.119\n",
      "INFO:tensorflow:loss = 10.792093, step = 2301 (0.659 sec)\n",
      "INFO:tensorflow:global_step/sec: 150.645\n",
      "INFO:tensorflow:loss = 9.978616, step = 2401 (0.665 sec)\n",
      "INFO:tensorflow:global_step/sec: 162.801\n",
      "INFO:tensorflow:loss = 11.327248, step = 2501 (0.615 sec)\n",
      "INFO:tensorflow:global_step/sec: 143.186\n",
      "INFO:tensorflow:loss = 9.660028, step = 2601 (0.697 sec)\n",
      "INFO:tensorflow:global_step/sec: 143.791\n",
      "INFO:tensorflow:loss = 11.378607, step = 2701 (0.698 sec)\n",
      "INFO:tensorflow:global_step/sec: 155.824\n",
      "INFO:tensorflow:loss = 10.287567, step = 2801 (0.640 sec)\n",
      "INFO:tensorflow:global_step/sec: 149.878\n",
      "INFO:tensorflow:loss = 9.932488, step = 2901 (0.667 sec)\n",
      "INFO:tensorflow:Saving checkpoints for 3000 into train/linreg/model.ckpt.\n",
      "INFO:tensorflow:Loss for final step: 10.799154.\n"
     ]
    },
    {
     "data": {
      "text/plain": [
       "<tensorflow_estimator.python.estimator.canned.dnn.DNNRegressor at 0x7f57b7b5b7b8>"
      ]
     },
     "execution_count": 9,
     "metadata": {},
     "output_type": "execute_result"
    }
   ],
   "source": [
    "# Train the estimator\n",
    "train_input = tf.estimator.inputs.numpy_input_fn(\n",
    "    x={\"x\": X_train},\n",
    "    y=y_train, shuffle=False, num_epochs=None)\n",
    "DNN_reg.train(train_input,steps=3000)"
   ]
  },
  {
   "cell_type": "code",
   "execution_count": null,
   "metadata": {},
   "outputs": [],
   "source": []
  }
 ],
 "metadata": {
  "kernelspec": {
   "display_name": "Python 3",
   "language": "python",
   "name": "python3"
  },
  "language_info": {
   "codemirror_mode": {
    "name": "ipython",
    "version": 3
   },
   "file_extension": ".py",
   "mimetype": "text/x-python",
   "name": "python",
   "nbconvert_exporter": "python",
   "pygments_lexer": "ipython3",
   "version": "3.7.3"
  }
 },
 "nbformat": 4,
 "nbformat_minor": 2
}
