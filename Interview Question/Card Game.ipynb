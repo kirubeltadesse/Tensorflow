{
 "cells": [
  {
   "cell_type": "markdown",
   "metadata": {},
   "source": [
    "# Card Game code"
   ]
  },
  {
   "cell_type": "code",
   "execution_count": 1,
   "metadata": {},
   "outputs": [],
   "source": [
    "import random"
   ]
  },
  {
   "cell_type": "code",
   "execution_count": 2,
   "metadata": {},
   "outputs": [],
   "source": [
    "class Card(object):\n",
    "    def __init__(self, val, suit):\n",
    "        self.suit = suit\n",
    "        self.val = val\n",
    "    def show(self):\n",
    "        print(\"{} of {}\".format(self.val, self.suit))\n",
    "        "
   ]
  },
  {
   "cell_type": "code",
   "execution_count": 3,
   "metadata": {},
   "outputs": [],
   "source": [
    "class Deck(object):\n",
    "    def __init__(self):\n",
    "        self.cards = []\n",
    "        self.build()\n",
    "       \n",
    "    def build(self):\n",
    "        for s in [\"Spades\",\"Clubs\",\"Diamonds\",\"Hearts\"]:\n",
    "            for v in range(1, 14):\n",
    "                self.cards.append(Card(s,v))\n",
    "               \n",
    "    def show(self):\n",
    "        for c in self.cards:\n",
    "            c.show()\n",
    "            \n",
    "    def shuffle(self):\n",
    "        for i in range(len(self.cards)-1, 0, -1):\n",
    "            r = random.randint(0,i)\n",
    "            self.cards[i], self.cards[r] = self.cards[r], self.cards[i]\n",
    "            \n",
    "    def drawCard(self):\n",
    "        return self.cards.pop()\n",
    "    "
   ]
  },
  {
   "cell_type": "code",
   "execution_count": 4,
   "metadata": {},
   "outputs": [],
   "source": [
    "class Player(object):\n",
    "    def __init__(self, name):\n",
    "        self.hand = []\n",
    "        self.name = name\n",
    "        \n",
    "    def draw(self, deck):\n",
    "        self.hand.append(deck.drawCard())\n",
    "        return self\n",
    "        \n",
    "    def showHand(self):\n",
    "        for card in self.hand:\n",
    "            card.show()\n",
    "            \n",
    "    def discard(self):\n",
    "        return self.hand.pop()"
   ]
  },
  {
   "cell_type": "code",
   "execution_count": 5,
   "metadata": {},
   "outputs": [
    {
     "name": "stdout",
     "output_type": "stream",
     "text": [
      "Hearts of 12\n"
     ]
    }
   ],
   "source": [
    "deck = Deck()\n",
    "deck.shuffle()\n",
    "\n",
    "card = deck.drawCard()\n",
    "\n",
    "card.show()"
   ]
  },
  {
   "cell_type": "code",
   "execution_count": 6,
   "metadata": {},
   "outputs": [
    {
     "name": "stdout",
     "output_type": "stream",
     "text": [
      "Hearts of 2\n",
      "Clubs of 6\n",
      "Spades of 7\n"
     ]
    }
   ],
   "source": [
    "deck = Deck()\n",
    "deck.shuffle()\n",
    "bob = Player(\"Bob\")\n",
    "bob.draw(deck).draw(deck).draw(deck)\n",
    "bob.showHand()"
   ]
  },
  {
   "cell_type": "code",
   "execution_count": 7,
   "metadata": {},
   "outputs": [],
   "source": [
    "# card = Card(2, \"Heart\")\n",
    "\n",
    "# card.show()"
   ]
  },
  {
   "cell_type": "code",
   "execution_count": null,
   "metadata": {},
   "outputs": [],
   "source": []
  }
 ],
 "metadata": {
  "kernelspec": {
   "display_name": "Python 3",
   "language": "python",
   "name": "python3"
  },
  "language_info": {
   "codemirror_mode": {
    "name": "ipython",
    "version": 3
   },
   "file_extension": ".py",
   "mimetype": "text/x-python",
   "name": "python",
   "nbconvert_exporter": "python",
   "pygments_lexer": "ipython3",
   "version": "3.7.6"
  }
 },
 "nbformat": 4,
 "nbformat_minor": 2
}
