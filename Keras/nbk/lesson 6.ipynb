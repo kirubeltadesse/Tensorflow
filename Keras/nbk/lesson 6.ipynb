{
 "cells": [
  {
   "cell_type": "code",
   "execution_count": 1,
   "metadata": {},
   "outputs": [
    {
     "name": "stderr",
     "output_type": "stream",
     "text": [
      "Using TensorFlow backend.\n"
     ]
    }
   ],
   "source": [
    "import keras\n",
    "from keras.layers import Embedding, Input, Flatten, Dense, concatenate, merge, add\n",
    "from keras.models import Model\n",
    "from keras.optimizers import Adam\n",
    "from keras.utils import get_file\n",
    "import numpy as np"
   ]
  },
  {
   "cell_type": "code",
   "execution_count": 2,
   "metadata": {},
   "outputs": [
    {
     "name": "stdout",
     "output_type": "stream",
     "text": [
      "corpus length: 600901\n"
     ]
    }
   ],
   "source": [
    "path = get_file('nietzsche.txt', origin=\"https://s3.amazonaws.com/text-datasets/nietzsche.txt\")\n",
    "text = open(path).read()\n",
    "print('corpus length:', len(text))"
   ]
  },
  {
   "cell_type": "code",
   "execution_count": 3,
   "metadata": {},
   "outputs": [
    {
     "name": "stdout",
     "output_type": "stream",
     "text": [
      "total chars: 86\n"
     ]
    }
   ],
   "source": [
    "chars = sorted(list(set(text)))\n",
    "vocab_size = len(chars)+1\n",
    "print('total chars:', vocab_size)"
   ]
  },
  {
   "cell_type": "markdown",
   "metadata": {},
   "source": [
    "using zero value in the dataset for padding"
   ]
  },
  {
   "cell_type": "code",
   "execution_count": 4,
   "metadata": {},
   "outputs": [],
   "source": [
    "chars.insert(0, \"\\0\")"
   ]
  },
  {
   "cell_type": "code",
   "execution_count": 5,
   "metadata": {},
   "outputs": [
    {
     "data": {
      "text/plain": [
       "'\\n !\"\\'(),-.0123456789:;=?ABCDEFGHIJKLMNOPQRSTUVWXYZ[]_abcdefghijklmnopqrstuvwxyz'"
      ]
     },
     "execution_count": 5,
     "metadata": {},
     "output_type": "execute_result"
    }
   ],
   "source": [
    "''.join(chars[1:-6])"
   ]
  },
  {
   "cell_type": "markdown",
   "metadata": {},
   "source": [
    "Map from chars to indices and back again"
   ]
  },
  {
   "cell_type": "code",
   "execution_count": 6,
   "metadata": {},
   "outputs": [],
   "source": [
    "char_indices = dict((c,i) for i, c in enumerate(chars))\n",
    "indices_char = dict((i,c) for i, c in enumerate(chars))"
   ]
  },
  {
   "cell_type": "markdown",
   "metadata": {},
   "source": [
    "idx will be the data we use for now own - it simply coverts all the characters to their index (based on the mapping above)"
   ]
  },
  {
   "cell_type": "code",
   "execution_count": 7,
   "metadata": {},
   "outputs": [],
   "source": [
    "idx = [char_indices[c] for c in text]"
   ]
  },
  {
   "cell_type": "code",
   "execution_count": 8,
   "metadata": {},
   "outputs": [
    {
     "data": {
      "text/plain": [
       "[40, 42, 29, 30, 25, 27, 29, 1, 1, 1]"
      ]
     },
     "execution_count": 8,
     "metadata": {},
     "output_type": "execute_result"
    }
   ],
   "source": [
    "idx[:10]"
   ]
  },
  {
   "cell_type": "code",
   "execution_count": 9,
   "metadata": {},
   "outputs": [
    {
     "data": {
      "text/plain": [
       "'PREFACE\\n\\n\\nSUPPOSING that Truth is a woman--what then? Is there not gro'"
      ]
     },
     "execution_count": 9,
     "metadata": {},
     "output_type": "execute_result"
    }
   ],
   "source": [
    "''.join(indices_char[i] for i in idx[:70])"
   ]
  },
  {
   "cell_type": "markdown",
   "metadata": {},
   "source": [
    "## 3 Char model"
   ]
  },
  {
   "cell_type": "markdown",
   "metadata": {},
   "source": [
    "#### Create inputs"
   ]
  },
  {
   "cell_type": "markdown",
   "metadata": {},
   "source": [
    "create a list of every 4th character, starting at the 0th, 1st, 2nd, then 3rd characters"
   ]
  },
  {
   "cell_type": "code",
   "execution_count": 10,
   "metadata": {},
   "outputs": [
    {
     "data": {
      "text/plain": [
       "600901"
      ]
     },
     "execution_count": 10,
     "metadata": {},
     "output_type": "execute_result"
    }
   ],
   "source": [
    "len(idx)"
   ]
  },
  {
   "cell_type": "code",
   "execution_count": 11,
   "metadata": {},
   "outputs": [],
   "source": [
    "cs = 3\n",
    "c1_dat = [idx[i] for i in range(0, len(idx)-1-cs, cs)]\n",
    "c2_dat = [idx[i+1] for i in range(0, len(idx)-1-cs, cs)]\n",
    "c3_dat = [idx[i+2] for i in range(0, len(idx)-1-cs, cs)]\n",
    "c4_dat = [idx[i+3] for i in range(0, len(idx)-1-cs, cs)]\n"
   ]
  },
  {
   "cell_type": "markdown",
   "metadata": {},
   "source": [
    "Our inputs"
   ]
  },
  {
   "cell_type": "code",
   "execution_count": 12,
   "metadata": {},
   "outputs": [],
   "source": [
    "x1 = np.stack(c1_dat[:-2])\n",
    "x2 = np.stack(c2_dat[:-2])\n",
    "x3 = np.stack(c3_dat[:-2])"
   ]
  },
  {
   "cell_type": "markdown",
   "metadata": {},
   "source": [
    "Our Output"
   ]
  },
  {
   "cell_type": "code",
   "execution_count": 13,
   "metadata": {},
   "outputs": [],
   "source": [
    "y = np.stack(c4_dat[:-2])"
   ]
  },
  {
   "cell_type": "code",
   "execution_count": 14,
   "metadata": {},
   "outputs": [],
   "source": [
    "test = [i for i in range(1,10)]"
   ]
  },
  {
   "cell_type": "markdown",
   "metadata": {},
   "source": [
    "The first 4 inputs and outputs"
   ]
  },
  {
   "cell_type": "code",
   "execution_count": 15,
   "metadata": {},
   "outputs": [
    {
     "data": {
      "text/plain": [
       "(array([40, 30, 29,  1]), array([42, 25,  1, 43]), array([29, 27,  1, 45]))"
      ]
     },
     "execution_count": 15,
     "metadata": {},
     "output_type": "execute_result"
    }
   ],
   "source": [
    "x1[:4], x2[:4], x3[:4]"
   ]
  },
  {
   "cell_type": "code",
   "execution_count": 16,
   "metadata": {},
   "outputs": [
    {
     "data": {
      "text/plain": [
       "array([30, 29,  1, 40])"
      ]
     },
     "execution_count": 16,
     "metadata": {},
     "output_type": "execute_result"
    }
   ],
   "source": [
    "y[:4]"
   ]
  },
  {
   "cell_type": "code",
   "execution_count": 17,
   "metadata": {},
   "outputs": [
    {
     "data": {
      "text/plain": [
       "((200297,), (200297,))"
      ]
     },
     "execution_count": 17,
     "metadata": {},
     "output_type": "execute_result"
    }
   ],
   "source": [
    "x1.shape, y.shape"
   ]
  },
  {
   "cell_type": "markdown",
   "metadata": {},
   "source": [
    "The number of latent factors to create (i.e. the size of the embedding matrix)"
   ]
  },
  {
   "cell_type": "code",
   "execution_count": 18,
   "metadata": {},
   "outputs": [],
   "source": [
    "n_fac = 42"
   ]
  },
  {
   "cell_type": "markdown",
   "metadata": {},
   "source": [
    "Create inputs and embedding outputs for each of our 3 character inputs"
   ]
  },
  {
   "cell_type": "code",
   "execution_count": 19,
   "metadata": {},
   "outputs": [],
   "source": [
    "def embedding_input(name, n_in, n_out):\n",
    "    inp = Input(shape=(1,), dtype='int64', name=name)\n",
    "    emb = Embedding(n_in, n_out, input_length=1)(inp)\n",
    "    return inp, Flatten()(emb)"
   ]
  },
  {
   "cell_type": "code",
   "execution_count": 20,
   "metadata": {},
   "outputs": [
    {
     "name": "stdout",
     "output_type": "stream",
     "text": [
      "WARNING:tensorflow:From C:\\Users\\ktadesse\\AppData\\Roaming\\Python\\Python36\\site-packages\\keras\\backend\\tensorflow_backend.py:1208: calling reduce_prod (from tensorflow.python.ops.math_ops) with keep_dims is deprecated and will be removed in a future version.\n",
      "Instructions for updating:\n",
      "keep_dims is deprecated, use keepdims instead\n"
     ]
    }
   ],
   "source": [
    "c1_in, c1 = embedding_input(\"c1\", vocab_size, n_fac)\n",
    "c2_in, c2 = embedding_input('c2', vocab_size, n_fac)\n",
    "c3_in, c3 = embedding_input('c3', vocab_size, n_fac)"
   ]
  },
  {
   "cell_type": "markdown",
   "metadata": {},
   "source": [
    "### Create and train model"
   ]
  },
  {
   "cell_type": "markdown",
   "metadata": {},
   "source": [
    "Pick a size for our hidden state"
   ]
  },
  {
   "cell_type": "code",
   "execution_count": 21,
   "metadata": {},
   "outputs": [],
   "source": [
    "n_hidden = 256"
   ]
  },
  {
   "cell_type": "markdown",
   "metadata": {},
   "source": [
    "This is the 'green arrow' from our diagram - the layer operation from input to hidden."
   ]
  },
  {
   "cell_type": "code",
   "execution_count": 22,
   "metadata": {},
   "outputs": [],
   "source": [
    "dense_in = Dense(n_hidden, activation='relu')"
   ]
  },
  {
   "cell_type": "markdown",
   "metadata": {},
   "source": [
    "our first hidden activation is simply this fucntion applied to the result of the embeeding of the frist character."
   ]
  },
  {
   "cell_type": "code",
   "execution_count": 23,
   "metadata": {},
   "outputs": [],
   "source": [
    "c1_hidden = dense_in(c1)"
   ]
  },
  {
   "cell_type": "markdown",
   "metadata": {},
   "source": [
    "This is the 'orange arrow' from our diagram - the layer operation from hidden to hidden."
   ]
  },
  {
   "cell_type": "code",
   "execution_count": 24,
   "metadata": {},
   "outputs": [],
   "source": [
    "dense_hidden = Dense(n_hidden, activation='tanh')"
   ]
  },
  {
   "cell_type": "markdown",
   "metadata": {},
   "source": [
    "Our second and third hidden activations sum up the previous hidden state (after applying dense_hidden) to the new input state."
   ]
  },
  {
   "cell_type": "code",
   "execution_count": 25,
   "metadata": {},
   "outputs": [],
   "source": [
    "c2_dense = dense_in(c2)\n",
    "hidden_2 = dense_hidden(c1_hidden)\n",
    "c2_hidden = add([c2_dense, hidden_2])"
   ]
  },
  {
   "cell_type": "code",
   "execution_count": 26,
   "metadata": {},
   "outputs": [],
   "source": [
    "c3_dense = dense_in(c3)\n",
    "hidden_3 = dense_hidden(c2_hidden)\n",
    "c3_hidden = add([c3_dense, hidden_3])"
   ]
  },
  {
   "cell_type": "markdown",
   "metadata": {},
   "source": [
    "This is the 'blue arrow' from our diagram - the layer operation from hidden to output"
   ]
  },
  {
   "cell_type": "code",
   "execution_count": 27,
   "metadata": {},
   "outputs": [],
   "source": [
    "dense_out = Dense(vocab_size, activation='softmax')"
   ]
  },
  {
   "cell_type": "markdown",
   "metadata": {},
   "source": [
    "The third hidden state is the input to our output layer."
   ]
  },
  {
   "cell_type": "code",
   "execution_count": 28,
   "metadata": {},
   "outputs": [],
   "source": [
    "c4_out = dense_out(c3_hidden)"
   ]
  },
  {
   "cell_type": "code",
   "execution_count": 29,
   "metadata": {},
   "outputs": [],
   "source": [
    "model = Model([c1_in, c2_in, c3_in], c4_out)"
   ]
  },
  {
   "cell_type": "code",
   "execution_count": 30,
   "metadata": {},
   "outputs": [
    {
     "name": "stdout",
     "output_type": "stream",
     "text": [
      "WARNING:tensorflow:From C:\\Users\\ktadesse\\AppData\\Roaming\\Python\\Python36\\site-packages\\keras\\backend\\tensorflow_backend.py:1297: calling reduce_mean (from tensorflow.python.ops.math_ops) with keep_dims is deprecated and will be removed in a future version.\n",
      "Instructions for updating:\n",
      "keep_dims is deprecated, use keepdims instead\n"
     ]
    }
   ],
   "source": [
    "model.compile(loss='sparse_categorical_crossentropy', optimizer=Adam())"
   ]
  },
  {
   "cell_type": "code",
   "execution_count": 62,
   "metadata": {},
   "outputs": [],
   "source": [
    "model.optimizer.lr=0.0000001"
   ]
  },
  {
   "cell_type": "code",
   "execution_count": 79,
   "metadata": {
    "scrolled": true
   },
   "outputs": [
    {
     "name": "stdout",
     "output_type": "stream",
     "text": [
      "Epoch 1/28\n",
      "200297/200297 [==============================] - 14s - loss: 3.0707    \n",
      "Epoch 2/28\n",
      "200297/200297 [==============================] - 13s - loss: 3.0700    \n",
      "Epoch 3/28\n",
      "200297/200297 [==============================] - 14s - loss: 3.0692    \n",
      "Epoch 4/28\n",
      "200297/200297 [==============================] - 13s - loss: 3.0685    \n",
      "Epoch 5/28\n",
      "200297/200297 [==============================] - 14s - loss: 3.0678    \n",
      "Epoch 6/28\n",
      "200297/200297 [==============================] - 13s - loss: 3.0670    \n",
      "Epoch 7/28\n",
      "200297/200297 [==============================] - 13s - loss: 3.0663    \n",
      "Epoch 8/28\n",
      "200297/200297 [==============================] - 13s - loss: 3.0655    \n",
      "Epoch 9/28\n",
      "200297/200297 [==============================] - 13s - loss: 3.0648    \n",
      "Epoch 10/28\n",
      "200297/200297 [==============================] - 13s - loss: 3.0641    \n",
      "Epoch 11/28\n",
      "200297/200297 [==============================] - 13s - loss: 3.0634    \n",
      "Epoch 12/28\n",
      "200297/200297 [==============================] - 13s - loss: 3.0626    \n",
      "Epoch 13/28\n",
      "200297/200297 [==============================] - 13s - loss: 3.0619    \n",
      "Epoch 14/28\n",
      "200297/200297 [==============================] - 14s - loss: 3.0612    \n",
      "Epoch 15/28\n",
      "200297/200297 [==============================] - 14s - loss: 3.0604    \n",
      "Epoch 16/28\n",
      "200297/200297 [==============================] - 14s - loss: 3.0597    \n",
      "Epoch 17/28\n",
      "200297/200297 [==============================] - 13s - loss: 3.0590    \n",
      "Epoch 18/28\n",
      "200297/200297 [==============================] - 14s - loss: 3.0583    \n",
      "Epoch 19/28\n",
      "200297/200297 [==============================] - 13s - loss: 3.0575    \n",
      "Epoch 20/28\n",
      "200297/200297 [==============================] - 13s - loss: 3.0568    \n",
      "Epoch 21/28\n",
      "200297/200297 [==============================] - 14s - loss: 3.0561    \n",
      "Epoch 22/28\n",
      "200297/200297 [==============================] - 14s - loss: 3.0554    \n",
      "Epoch 23/28\n",
      "200297/200297 [==============================] - 14s - loss: 3.0546    \n",
      "Epoch 24/28\n",
      "200297/200297 [==============================] - 13s - loss: 3.0539    \n",
      "Epoch 25/28\n",
      "200297/200297 [==============================] - 13s - loss: 3.0532    \n",
      "Epoch 26/28\n",
      "200297/200297 [==============================] - 13s - loss: 3.0524    \n",
      "Epoch 27/28\n",
      "200297/200297 [==============================] - 13s - loss: 3.0517    \n",
      "Epoch 28/28\n",
      "200297/200297 [==============================] - 14s - loss: 3.0510    \n"
     ]
    },
    {
     "data": {
      "text/plain": [
       "<keras.callbacks.History at 0x425cf780>"
      ]
     },
     "execution_count": 79,
     "metadata": {},
     "output_type": "execute_result"
    }
   ],
   "source": [
    "model.fit([x1,x2,x3], y, batch_size=64, epochs=28)"
   ]
  },
  {
   "cell_type": "code",
   "execution_count": 80,
   "metadata": {},
   "outputs": [],
   "source": [
    "model.optimizer.lr=0.01"
   ]
  },
  {
   "cell_type": "code",
   "execution_count": 81,
   "metadata": {
    "scrolled": true
   },
   "outputs": [
    {
     "name": "stdout",
     "output_type": "stream",
     "text": [
      "Epoch 1/28\n",
      "200297/200297 [==============================] - 14s - loss: 3.0502    \n",
      "Epoch 2/28\n",
      "200297/200297 [==============================] - 14s - loss: 3.0495    \n",
      "Epoch 3/28\n",
      "200297/200297 [==============================] - 13s - loss: 3.0488    \n",
      "Epoch 4/28\n",
      "200297/200297 [==============================] - 14s - loss: 3.0480    \n",
      "Epoch 5/28\n",
      "200297/200297 [==============================] - 14s - loss: 3.0473    \n",
      "Epoch 6/28\n",
      "200297/200297 [==============================] - 13s - loss: 3.0466    \n",
      "Epoch 7/28\n",
      "200297/200297 [==============================] - 14s - loss: 3.0458    \n",
      "Epoch 8/28\n",
      "200297/200297 [==============================] - 14s - loss: 3.0451    \n",
      "Epoch 9/28\n",
      "200297/200297 [==============================] - 13s - loss: 3.0443    \n",
      "Epoch 10/28\n",
      "200297/200297 [==============================] - 14s - loss: 3.0436    \n",
      "Epoch 11/28\n",
      "200297/200297 [==============================] - 13s - loss: 3.0428    \n",
      "Epoch 12/28\n",
      "200297/200297 [==============================] - 14s - loss: 3.0421    \n",
      "Epoch 13/28\n",
      "200297/200297 [==============================] - 14s - loss: 3.0413    \n",
      "Epoch 14/28\n",
      "200297/200297 [==============================] - 13s - loss: 3.0406    \n",
      "Epoch 15/28\n",
      "200297/200297 [==============================] - 13s - loss: 3.0398    \n",
      "Epoch 16/28\n",
      "200297/200297 [==============================] - 13s - loss: 3.0391    \n",
      "Epoch 17/28\n",
      "200297/200297 [==============================] - 13s - loss: 3.0383    \n",
      "Epoch 18/28\n",
      "200297/200297 [==============================] - 14s - loss: 3.0376    \n",
      "Epoch 19/28\n",
      "200297/200297 [==============================] - 13s - loss: 3.0368    \n",
      "Epoch 20/28\n",
      "200297/200297 [==============================] - 14s - loss: 3.0360    \n",
      "Epoch 21/28\n",
      "200297/200297 [==============================] - 13s - loss: 3.0353    \n",
      "Epoch 22/28\n",
      "200297/200297 [==============================] - 14s - loss: 3.0345    \n",
      "Epoch 23/28\n",
      "200297/200297 [==============================] - 14s - loss: 3.0337    \n",
      "Epoch 24/28\n",
      "200297/200297 [==============================] - 14s - loss: 3.0329    \n",
      "Epoch 25/28\n",
      "200297/200297 [==============================] - 13s - loss: 3.0322    \n",
      "Epoch 26/28\n",
      "200297/200297 [==============================] - 14s - loss: 3.0314    \n",
      "Epoch 27/28\n",
      "200297/200297 [==============================] - 13s - loss: 3.0306    \n",
      "Epoch 28/28\n",
      "200297/200297 [==============================] - 13s - loss: 3.0298    \n"
     ]
    },
    {
     "data": {
      "text/plain": [
       "<keras.callbacks.History at 0x425cf240>"
      ]
     },
     "execution_count": 81,
     "metadata": {},
     "output_type": "execute_result"
    }
   ],
   "source": [
    "model.fit([x1,x2,x3], y, batch_size=64, epochs=28)"
   ]
  },
  {
   "cell_type": "code",
   "execution_count": 82,
   "metadata": {},
   "outputs": [],
   "source": [
    "model.optimizer.lr=0.0000001"
   ]
  },
  {
   "cell_type": "code",
   "execution_count": 83,
   "metadata": {
    "scrolled": true
   },
   "outputs": [
    {
     "name": "stdout",
     "output_type": "stream",
     "text": [
      "Epoch 1/28\n",
      "200297/200297 [==============================] - 14s - loss: 3.0290    \n",
      "Epoch 2/28\n",
      "200297/200297 [==============================] - 13s - loss: 3.0283    \n",
      "Epoch 3/28\n",
      "200297/200297 [==============================] - 13s - loss: 3.0275    \n",
      "Epoch 4/28\n",
      "200297/200297 [==============================] - 13s - loss: 3.0267    \n",
      "Epoch 5/28\n",
      "200297/200297 [==============================] - 13s - loss: 3.0259    \n",
      "Epoch 6/28\n",
      "200297/200297 [==============================] - 13s - loss: 3.0251    \n",
      "Epoch 7/28\n",
      "200297/200297 [==============================] - 14s - loss: 3.0243    \n",
      "Epoch 8/28\n",
      "200297/200297 [==============================] - 14s - loss: 3.0235    \n",
      "Epoch 9/28\n",
      "200297/200297 [==============================] - 14s - loss: 3.0227    \n",
      "Epoch 10/28\n",
      "200297/200297 [==============================] - 13s - loss: 3.0219    \n",
      "Epoch 11/28\n",
      "200297/200297 [==============================] - 14s - loss: 3.0211    \n",
      "Epoch 12/28\n",
      "200297/200297 [==============================] - 14s - loss: 3.0202    \n",
      "Epoch 13/28\n",
      "200297/200297 [==============================] - 14s - loss: 3.0194    \n",
      "Epoch 14/28\n",
      "200297/200297 [==============================] - 14s - loss: 3.0186    \n",
      "Epoch 15/28\n",
      "200297/200297 [==============================] - 13s - loss: 3.0178    \n",
      "Epoch 16/28\n",
      "200297/200297 [==============================] - 13s - loss: 3.0170    \n",
      "Epoch 17/28\n",
      "200297/200297 [==============================] - 14s - loss: 3.0161    \n",
      "Epoch 18/28\n",
      "200297/200297 [==============================] - 13s - loss: 3.0153    \n",
      "Epoch 19/28\n",
      "200297/200297 [==============================] - 14s - loss: 3.0145    \n",
      "Epoch 20/28\n",
      "200297/200297 [==============================] - 14s - loss: 3.0137    \n",
      "Epoch 21/28\n",
      "200297/200297 [==============================] - 13s - loss: 3.0128    \n",
      "Epoch 22/28\n",
      "200297/200297 [==============================] - 13s - loss: 3.0120    \n",
      "Epoch 23/28\n",
      "200297/200297 [==============================] - 13s - loss: 3.0112    \n",
      "Epoch 24/28\n",
      "200297/200297 [==============================] - 14s - loss: 3.0103    \n",
      "Epoch 25/28\n",
      "200297/200297 [==============================] - 14s - loss: 3.0095    \n",
      "Epoch 26/28\n",
      "200297/200297 [==============================] - 14s - loss: 3.0086    \n",
      "Epoch 27/28\n",
      "200297/200297 [==============================] - 14s - loss: 3.0078    \n",
      "Epoch 28/28\n",
      "200297/200297 [==============================] - 13s - loss: 3.0070    \n"
     ]
    },
    {
     "data": {
      "text/plain": [
       "<keras.callbacks.History at 0x425cfe48>"
      ]
     },
     "execution_count": 83,
     "metadata": {},
     "output_type": "execute_result"
    }
   ],
   "source": [
    "model.fit([x1,x2,x3], y, batch_size=64, epochs=28)"
   ]
  },
  {
   "cell_type": "code",
   "execution_count": 84,
   "metadata": {},
   "outputs": [],
   "source": [
    "model.optimizer.lr=0.01"
   ]
  },
  {
   "cell_type": "code",
   "execution_count": 85,
   "metadata": {
    "scrolled": true
   },
   "outputs": [
    {
     "name": "stdout",
     "output_type": "stream",
     "text": [
      "Epoch 1/28\n",
      "200297/200297 [==============================] - 14s - loss: 3.0061    \n",
      "Epoch 2/28\n",
      "200297/200297 [==============================] - 14s - loss: 3.0053    \n",
      "Epoch 3/28\n",
      "200297/200297 [==============================] - 14s - loss: 3.0044    \n",
      "Epoch 4/28\n",
      "200297/200297 [==============================] - 13s - loss: 3.0036    \n",
      "Epoch 5/28\n",
      "200297/200297 [==============================] - 14s - loss: 3.0027    \n",
      "Epoch 6/28\n",
      "200297/200297 [==============================] - 13s - loss: 3.0019    \n",
      "Epoch 7/28\n",
      "200297/200297 [==============================] - 14s - loss: 3.0010    \n",
      "Epoch 8/28\n",
      "200297/200297 [==============================] - 14s - loss: 3.0002    \n",
      "Epoch 9/28\n",
      "200297/200297 [==============================] - 13s - loss: 2.9993    \n",
      "Epoch 10/28\n",
      "200297/200297 [==============================] - 14s - loss: 2.9985    \n",
      "Epoch 11/28\n",
      "200297/200297 [==============================] - 14s - loss: 2.9976    \n",
      "Epoch 12/28\n",
      "200297/200297 [==============================] - 14s - loss: 2.9967    \n",
      "Epoch 13/28\n",
      "200297/200297 [==============================] - 13s - loss: 2.9959    \n",
      "Epoch 14/28\n",
      "200297/200297 [==============================] - 13s - loss: 2.9950    \n",
      "Epoch 15/28\n",
      "200297/200297 [==============================] - 14s - loss: 2.9942    \n",
      "Epoch 16/28\n",
      "200297/200297 [==============================] - 13s - loss: 2.9933    \n",
      "Epoch 17/28\n",
      "200297/200297 [==============================] - 13s - loss: 2.9924    \n",
      "Epoch 18/28\n",
      "200297/200297 [==============================] - 13s - loss: 2.9916    \n",
      "Epoch 19/28\n",
      "200297/200297 [==============================] - 14s - loss: 2.9907    \n",
      "Epoch 20/28\n",
      "200297/200297 [==============================] - 13s - loss: 2.9898    \n",
      "Epoch 21/28\n",
      "200297/200297 [==============================] - 13s - loss: 2.9890    \n",
      "Epoch 22/28\n",
      "200297/200297 [==============================] - 14s - loss: 2.9881    \n",
      "Epoch 23/28\n",
      "200297/200297 [==============================] - 13s - loss: 2.9872    \n",
      "Epoch 24/28\n",
      "200297/200297 [==============================] - 13s - loss: 2.9863    \n",
      "Epoch 25/28\n",
      "200297/200297 [==============================] - 14s - loss: 2.9855    \n",
      "Epoch 26/28\n",
      "200297/200297 [==============================] - 13s - loss: 2.9846    \n",
      "Epoch 27/28\n",
      "200297/200297 [==============================] - 14s - loss: 2.9837    \n",
      "Epoch 28/28\n",
      "200297/200297 [==============================] - 14s - loss: 2.9828    \n"
     ]
    },
    {
     "data": {
      "text/plain": [
       "<keras.callbacks.History at 0x425cfcc0>"
      ]
     },
     "execution_count": 85,
     "metadata": {},
     "output_type": "execute_result"
    }
   ],
   "source": [
    "model.fit([x1,x2,x3], y, batch_size=64, epochs=28)"
   ]
  },
  {
   "cell_type": "code",
   "execution_count": 90,
   "metadata": {
    "scrolled": true
   },
   "outputs": [
    {
     "name": "stdout",
     "output_type": "stream",
     "text": [
      "Epoch 1/28\n",
      "200297/200297 [==============================] - 14s - loss: 2.9820    \n",
      "Epoch 2/28\n",
      "200297/200297 [==============================] - 13s - loss: 2.9811    \n",
      "Epoch 3/28\n",
      "200297/200297 [==============================] - 14s - loss: 2.9802    \n",
      "Epoch 4/28\n",
      "200297/200297 [==============================] - 14s - loss: 2.9793    \n",
      "Epoch 5/28\n",
      "200297/200297 [==============================] - 13s - loss: 2.9785    \n",
      "Epoch 6/28\n",
      "200297/200297 [==============================] - 14s - loss: 2.9776    \n",
      "Epoch 7/28\n",
      "200297/200297 [==============================] - 13s - loss: 2.9767    \n",
      "Epoch 8/28\n",
      "200297/200297 [==============================] - 14s - loss: 2.9758    \n",
      "Epoch 9/28\n",
      "200297/200297 [==============================] - 13s - loss: 2.9749    \n",
      "Epoch 10/28\n",
      "200297/200297 [==============================] - 13s - loss: 2.9741    \n",
      "Epoch 11/28\n",
      "200297/200297 [==============================] - 14s - loss: 2.9732    \n",
      "Epoch 12/28\n",
      "200297/200297 [==============================] - 13s - loss: 2.9723    \n",
      "Epoch 13/28\n",
      "200297/200297 [==============================] - 13s - loss: 2.9714    \n",
      "Epoch 14/28\n",
      "200297/200297 [==============================] - 13s - loss: 2.9705    \n",
      "Epoch 15/28\n",
      "200297/200297 [==============================] - 14s - loss: 2.9697    \n",
      "Epoch 16/28\n",
      "200297/200297 [==============================] - 14s - loss: 2.9688    \n",
      "Epoch 17/28\n",
      "200297/200297 [==============================] - 13s - loss: 2.9679    \n",
      "Epoch 18/28\n",
      "200297/200297 [==============================] - 14s - loss: 2.9670    \n",
      "Epoch 19/28\n",
      "200297/200297 [==============================] - 14s - loss: 2.9661    \n",
      "Epoch 20/28\n",
      "200297/200297 [==============================] - 13s - loss: 2.9653    \n",
      "Epoch 21/28\n",
      "200297/200297 [==============================] - 14s - loss: 2.9644    \n",
      "Epoch 22/28\n",
      "200297/200297 [==============================] - 13s - loss: 2.9635    \n",
      "Epoch 23/28\n",
      "200297/200297 [==============================] - 14s - loss: 2.9626    \n",
      "Epoch 24/28\n",
      "200297/200297 [==============================] - 13s - loss: 2.9618    \n",
      "Epoch 25/28\n",
      "200297/200297 [==============================] - 14s - loss: 2.9609    \n",
      "Epoch 26/28\n",
      "200297/200297 [==============================] - 14s - loss: 2.9600    \n",
      "Epoch 27/28\n",
      "200297/200297 [==============================] - 13s - loss: 2.9591    \n",
      "Epoch 28/28\n",
      "200297/200297 [==============================] - 14s - loss: 2.9583    \n"
     ]
    },
    {
     "data": {
      "text/plain": [
       "<keras.callbacks.History at 0x41d9c550>"
      ]
     },
     "execution_count": 90,
     "metadata": {},
     "output_type": "execute_result"
    }
   ],
   "source": [
    "model.optimizer.lr=0.01\n",
    "model.fit([x1,x2,x3], y, batch_size=64, epochs=28)\n"
   ]
  },
  {
   "cell_type": "code",
   "execution_count": 91,
   "metadata": {
    "scrolled": true
   },
   "outputs": [
    {
     "name": "stdout",
     "output_type": "stream",
     "text": [
      "Epoch 1/28\n",
      "200297/200297 [==============================] - 13s - loss: 2.9574    \n",
      "Epoch 2/28\n",
      "200297/200297 [==============================] - 13s - loss: 2.9565    \n",
      "Epoch 3/28\n",
      "200297/200297 [==============================] - 13s - loss: 2.9556    \n",
      "Epoch 4/28\n",
      "200297/200297 [==============================] - 13s - loss: 2.9548    \n",
      "Epoch 5/28\n",
      "200297/200297 [==============================] - 14s - loss: 2.9539    \n",
      "Epoch 6/28\n",
      "200297/200297 [==============================] - 14s - loss: 2.9530    \n",
      "Epoch 7/28\n",
      "200297/200297 [==============================] - 13s - loss: 2.9522    \n",
      "Epoch 8/28\n",
      "200297/200297 [==============================] - 14s - loss: 2.9513    \n",
      "Epoch 9/28\n",
      "200297/200297 [==============================] - 13s - loss: 2.9504    \n",
      "Epoch 10/28\n",
      "200297/200297 [==============================] - 14s - loss: 2.9496    \n",
      "Epoch 11/28\n",
      "200297/200297 [==============================] - 14s - loss: 2.9487    \n",
      "Epoch 12/28\n",
      "200297/200297 [==============================] - 14s - loss: 2.9478    \n",
      "Epoch 13/28\n",
      "200297/200297 [==============================] - 13s - loss: 2.9470    \n",
      "Epoch 14/28\n",
      "200297/200297 [==============================] - 13s - loss: 2.9461    \n",
      "Epoch 15/28\n",
      "200297/200297 [==============================] - 14s - loss: 2.9452    \n",
      "Epoch 16/28\n",
      "200297/200297 [==============================] - 13s - loss: 2.9444    \n",
      "Epoch 17/28\n",
      "200297/200297 [==============================] - 13s - loss: 2.9435    \n",
      "Epoch 18/28\n",
      "200297/200297 [==============================] - 14s - loss: 2.9426    \n",
      "Epoch 19/28\n",
      "200297/200297 [==============================] - 13s - loss: 2.9418    \n",
      "Epoch 20/28\n",
      "200297/200297 [==============================] - 14s - loss: 2.9409    \n",
      "Epoch 21/28\n",
      "200297/200297 [==============================] - 14s - loss: 2.9401    \n",
      "Epoch 22/28\n",
      "200297/200297 [==============================] - 14s - loss: 2.9392    \n",
      "Epoch 23/28\n",
      "200297/200297 [==============================] - 14s - loss: 2.9383    \n",
      "Epoch 24/28\n",
      "200297/200297 [==============================] - 13s - loss: 2.9375    \n",
      "Epoch 25/28\n",
      "200297/200297 [==============================] - 14s - loss: 2.9366    \n",
      "Epoch 26/28\n",
      "200297/200297 [==============================] - 13s - loss: 2.9358    \n",
      "Epoch 27/28\n",
      "200297/200297 [==============================] - 14s - loss: 2.9349    \n",
      "Epoch 28/28\n",
      "200297/200297 [==============================] - 13s - loss: 2.9341    \n"
     ]
    },
    {
     "data": {
      "text/plain": [
       "<keras.callbacks.History at 0x41d9c208>"
      ]
     },
     "execution_count": 91,
     "metadata": {},
     "output_type": "execute_result"
    }
   ],
   "source": [
    "model.optimizer.lr=0.001\n",
    "model.fit([x1,x2,x3], y, batch_size=64, epochs=28)"
   ]
  },
  {
   "cell_type": "code",
   "execution_count": 92,
   "metadata": {
    "scrolled": true
   },
   "outputs": [
    {
     "name": "stdout",
     "output_type": "stream",
     "text": [
      "Epoch 1/28\n",
      "200297/200297 [==============================] - 13s - loss: 2.9332    \n",
      "Epoch 2/28\n",
      "200297/200297 [==============================] - 14s - loss: 2.9324    \n",
      "Epoch 3/28\n",
      "200297/200297 [==============================] - 14s - loss: 2.9315    \n",
      "Epoch 4/28\n",
      "200297/200297 [==============================] - 13s - loss: 2.9307    \n",
      "Epoch 5/28\n",
      "200297/200297 [==============================] - 13s - loss: 2.9298    \n",
      "Epoch 6/28\n",
      "200297/200297 [==============================] - 14s - loss: 2.9290    \n",
      "Epoch 7/28\n",
      "200297/200297 [==============================] - 14s - loss: 2.9281    \n",
      "Epoch 8/28\n",
      "200297/200297 [==============================] - 14s - loss: 2.9273    \n",
      "Epoch 9/28\n",
      "200297/200297 [==============================] - 14s - loss: 2.9264    \n",
      "Epoch 10/28\n",
      "200297/200297 [==============================] - 14s - loss: 2.9256    \n",
      "Epoch 11/28\n",
      "200297/200297 [==============================] - 14s - loss: 2.9247    \n",
      "Epoch 12/28\n",
      "200297/200297 [==============================] - 13s - loss: 2.9239    \n",
      "Epoch 13/28\n",
      "200297/200297 [==============================] - 14s - loss: 2.9230    \n",
      "Epoch 14/28\n",
      "200297/200297 [==============================] - 14s - loss: 2.9222    \n",
      "Epoch 15/28\n",
      "200297/200297 [==============================] - 13s - loss: 2.9214    \n",
      "Epoch 16/28\n",
      "200297/200297 [==============================] - 14s - loss: 2.9205    \n",
      "Epoch 17/28\n",
      "200297/200297 [==============================] - 14s - loss: 2.9197    \n",
      "Epoch 18/28\n",
      "200297/200297 [==============================] - 14s - loss: 2.9188    \n",
      "Epoch 19/28\n",
      "200297/200297 [==============================] - 14s - loss: 2.9180    \n",
      "Epoch 20/28\n",
      "200297/200297 [==============================] - 14s - loss: 2.9172    \n",
      "Epoch 21/28\n",
      "200297/200297 [==============================] - 14s - loss: 2.9163    \n",
      "Epoch 22/28\n",
      "200297/200297 [==============================] - 13s - loss: 2.9155    \n",
      "Epoch 23/28\n",
      "200297/200297 [==============================] - 14s - loss: 2.9146    \n",
      "Epoch 24/28\n",
      "200297/200297 [==============================] - 14s - loss: 2.9138    \n",
      "Epoch 25/28\n",
      "200297/200297 [==============================] - 14s - loss: 2.9130    \n",
      "Epoch 26/28\n",
      "200297/200297 [==============================] - 14s - loss: 2.9121    \n",
      "Epoch 27/28\n",
      "200297/200297 [==============================] - 15s - loss: 2.9113    \n",
      "Epoch 28/28\n",
      "200297/200297 [==============================] - 13s - loss: 2.9105    \n"
     ]
    },
    {
     "data": {
      "text/plain": [
       "<keras.callbacks.History at 0x41d9c390>"
      ]
     },
     "execution_count": 92,
     "metadata": {},
     "output_type": "execute_result"
    }
   ],
   "source": [
    "model.optimizer.lr=0.01\n",
    "model.fit([x1,x2,x3], y, batch_size=64, epochs=28)"
   ]
  },
  {
   "cell_type": "code",
   "execution_count": 93,
   "metadata": {
    "scrolled": true
   },
   "outputs": [
    {
     "name": "stdout",
     "output_type": "stream",
     "text": [
      "Epoch 1/28\n",
      "200297/200297 [==============================] - 13s - loss: 2.9096    \n",
      "Epoch 2/28\n",
      "200297/200297 [==============================] - 14s - loss: 2.9088    \n",
      "Epoch 3/28\n",
      "200297/200297 [==============================] - 13s - loss: 2.9080    \n",
      "Epoch 4/28\n",
      "200297/200297 [==============================] - 14s - loss: 2.9071    \n",
      "Epoch 5/28\n",
      "200297/200297 [==============================] - 13s - loss: 2.9063    \n",
      "Epoch 6/28\n",
      "200297/200297 [==============================] - 14s - loss: 2.9055    \n",
      "Epoch 7/28\n",
      "200297/200297 [==============================] - 14s - loss: 2.9046    \n",
      "Epoch 8/28\n",
      "200297/200297 [==============================] - 14s - loss: 2.9038    \n",
      "Epoch 9/28\n",
      "200297/200297 [==============================] - 14s - loss: 2.9030    \n",
      "Epoch 10/28\n",
      "200297/200297 [==============================] - 14s - loss: 2.9022    \n",
      "Epoch 11/28\n",
      "200297/200297 [==============================] - 14s - loss: 2.9013    \n",
      "Epoch 12/28\n",
      "200297/200297 [==============================] - 13s - loss: 2.9005    \n",
      "Epoch 13/28\n",
      "200297/200297 [==============================] - 13s - loss: 2.8997    \n",
      "Epoch 14/28\n",
      "200297/200297 [==============================] - 15s - loss: 2.8989    \n",
      "Epoch 15/28\n",
      "200297/200297 [==============================] - 14s - loss: 2.8980    \n",
      "Epoch 16/28\n",
      "200297/200297 [==============================] - 14s - loss: 2.8972    \n",
      "Epoch 17/28\n",
      "200297/200297 [==============================] - 13s - loss: 2.8964    \n",
      "Epoch 18/28\n",
      "200297/200297 [==============================] - 14s - loss: 2.8956    \n",
      "Epoch 19/28\n",
      "200297/200297 [==============================] - 14s - loss: 2.8948    \n",
      "Epoch 20/28\n",
      "200297/200297 [==============================] - 14s - loss: 2.8939    \n",
      "Epoch 21/28\n",
      "200297/200297 [==============================] - 13s - loss: 2.8931    \n",
      "Epoch 22/28\n",
      "200297/200297 [==============================] - 14s - loss: 2.8923    \n",
      "Epoch 23/28\n",
      "200297/200297 [==============================] - 14s - loss: 2.8915    \n",
      "Epoch 24/28\n",
      "200297/200297 [==============================] - 14s - loss: 2.8907    \n",
      "Epoch 25/28\n",
      "200297/200297 [==============================] - 13s - loss: 2.8898    \n",
      "Epoch 26/28\n",
      "200297/200297 [==============================] - 14s - loss: 2.8890    \n",
      "Epoch 27/28\n",
      "200297/200297 [==============================] - 13s - loss: 2.8882    \n",
      "Epoch 28/28\n",
      "200297/200297 [==============================] - 14s - loss: 2.8874    \n"
     ]
    },
    {
     "data": {
      "text/plain": [
       "<keras.callbacks.History at 0x41d9c358>"
      ]
     },
     "execution_count": 93,
     "metadata": {},
     "output_type": "execute_result"
    }
   ],
   "source": [
    "model.optimizer.lr=0.01\n",
    "model.fit([x1,x2,x3], y, batch_size=64, epochs=28)"
   ]
  },
  {
   "cell_type": "code",
   "execution_count": 94,
   "metadata": {
    "scrolled": true
   },
   "outputs": [
    {
     "name": "stdout",
     "output_type": "stream",
     "text": [
      "Epoch 1/28\n",
      "200297/200297 [==============================] - 13s - loss: 2.8866    \n",
      "Epoch 2/28\n",
      "200297/200297 [==============================] - 13s - loss: 2.8858    \n",
      "Epoch 3/28\n",
      "200297/200297 [==============================] - 14s - loss: 2.8849    \n",
      "Epoch 4/28\n",
      "200297/200297 [==============================] - 13s - loss: 2.8841    \n",
      "Epoch 5/28\n",
      "200297/200297 [==============================] - 14s - loss: 2.8833    \n",
      "Epoch 6/28\n",
      "200297/200297 [==============================] - 13s - loss: 2.8825    \n",
      "Epoch 7/28\n",
      "200297/200297 [==============================] - 14s - loss: 2.8817    \n",
      "Epoch 8/28\n",
      "200297/200297 [==============================] - 13s - loss: 2.8809    \n",
      "Epoch 9/28\n",
      "200297/200297 [==============================] - 13s - loss: 2.8801    \n",
      "Epoch 10/28\n",
      "200297/200297 [==============================] - 14s - loss: 2.8793    \n",
      "Epoch 11/28\n",
      "200297/200297 [==============================] - 14s - loss: 2.8785    \n",
      "Epoch 12/28\n",
      "200297/200297 [==============================] - 14s - loss: 2.8776    \n",
      "Epoch 13/28\n",
      "200297/200297 [==============================] - 14s - loss: 2.8768    \n",
      "Epoch 14/28\n",
      "200297/200297 [==============================] - 14s - loss: 2.8760    \n",
      "Epoch 15/28\n",
      "200297/200297 [==============================] - 13s - loss: 2.8752    \n",
      "Epoch 16/28\n",
      "200297/200297 [==============================] - 13s - loss: 2.8744    \n",
      "Epoch 17/28\n",
      "200297/200297 [==============================] - 14s - loss: 2.8736    \n",
      "Epoch 18/28\n",
      "200297/200297 [==============================] - 13s - loss: 2.8728    \n",
      "Epoch 19/28\n",
      "200297/200297 [==============================] - 14s - loss: 2.8720    \n",
      "Epoch 20/28\n",
      "200297/200297 [==============================] - 13s - loss: 2.8712    \n",
      "Epoch 21/28\n",
      "200297/200297 [==============================] - 14s - loss: 2.8704    \n",
      "Epoch 22/28\n",
      "200297/200297 [==============================] - 14s - loss: 2.8695    \n",
      "Epoch 23/28\n",
      "200297/200297 [==============================] - 13s - loss: 2.8687    \n",
      "Epoch 24/28\n",
      "200297/200297 [==============================] - 14s - loss: 2.8679    \n",
      "Epoch 25/28\n",
      "200297/200297 [==============================] - 13s - loss: 2.8671    \n",
      "Epoch 26/28\n",
      "200297/200297 [==============================] - 14s - loss: 2.8663    \n",
      "Epoch 27/28\n",
      "200297/200297 [==============================] - 13s - loss: 2.8655    \n",
      "Epoch 28/28\n",
      "200297/200297 [==============================] - 14s - loss: 2.8647    \n"
     ]
    },
    {
     "data": {
      "text/plain": [
       "<keras.callbacks.History at 0x425cfb00>"
      ]
     },
     "execution_count": 94,
     "metadata": {},
     "output_type": "execute_result"
    }
   ],
   "source": [
    "model.optimizer.lr=0.1\n",
    "model.fit([x1,x2,x3], y, batch_size=64, epochs=28)"
   ]
  },
  {
   "cell_type": "code",
   "execution_count": 95,
   "metadata": {
    "scrolled": true
   },
   "outputs": [
    {
     "name": "stdout",
     "output_type": "stream",
     "text": [
      "Epoch 1/28\n",
      "200297/200297 [==============================] - 14s - loss: 2.8639    \n",
      "Epoch 2/28\n",
      "200297/200297 [==============================] - 14s - loss: 2.8631    \n",
      "Epoch 3/28\n",
      "200297/200297 [==============================] - 14s - loss: 2.8623    \n",
      "Epoch 4/28\n",
      "200297/200297 [==============================] - 14s - loss: 2.8615    \n",
      "Epoch 5/28\n",
      "200297/200297 [==============================] - 14s - loss: 2.8607    \n",
      "Epoch 6/28\n",
      "200297/200297 [==============================] - 14s - loss: 2.8599    \n",
      "Epoch 7/28\n",
      "200297/200297 [==============================] - 14s - loss: 2.8591    \n",
      "Epoch 8/28\n",
      "200297/200297 [==============================] - 14s - loss: 2.8583    \n",
      "Epoch 9/28\n",
      "200297/200297 [==============================] - 14s - loss: 2.8574    \n",
      "Epoch 10/28\n",
      "200297/200297 [==============================] - 14s - loss: 2.8566    \n",
      "Epoch 11/28\n",
      "200297/200297 [==============================] - 14s - loss: 2.8558    \n",
      "Epoch 12/28\n",
      "200297/200297 [==============================] - 14s - loss: 2.8550    \n",
      "Epoch 13/28\n",
      "200297/200297 [==============================] - 14s - loss: 2.8542    \n",
      "Epoch 14/28\n",
      "200297/200297 [==============================] - 13s - loss: 2.8534    \n",
      "Epoch 15/28\n",
      "200297/200297 [==============================] - 14s - loss: 2.8526    \n",
      "Epoch 16/28\n",
      "200297/200297 [==============================] - 13s - loss: 2.8518    \n",
      "Epoch 17/28\n",
      "200297/200297 [==============================] - 14s - loss: 2.8510    \n",
      "Epoch 18/28\n",
      "200297/200297 [==============================] - 14s - loss: 2.8502    \n",
      "Epoch 19/28\n",
      "200297/200297 [==============================] - 14s - loss: 2.8494    \n",
      "Epoch 20/28\n",
      "200297/200297 [==============================] - 13s - loss: 2.8486    \n",
      "Epoch 21/28\n",
      "200297/200297 [==============================] - 13s - loss: 2.8478    \n",
      "Epoch 22/28\n",
      "200297/200297 [==============================] - 14s - loss: 2.8470    \n",
      "Epoch 23/28\n",
      "200297/200297 [==============================] - 14s - loss: 2.8462    \n",
      "Epoch 24/28\n",
      "200297/200297 [==============================] - 14s - loss: 2.8454    \n",
      "Epoch 25/28\n",
      "200297/200297 [==============================] - 14s - loss: 2.8446    \n",
      "Epoch 26/28\n",
      "200297/200297 [==============================] - ETA: 0s - loss: 2.843 - 13s - loss: 2.8438    \n",
      "Epoch 27/28\n",
      "200297/200297 [==============================] - 14s - loss: 2.8430    \n",
      "Epoch 28/28\n",
      "200297/200297 [==============================] - 13s - loss: 2.8422    \n"
     ]
    },
    {
     "data": {
      "text/plain": [
       "<keras.callbacks.History at 0x41d9c240>"
      ]
     },
     "execution_count": 95,
     "metadata": {},
     "output_type": "execute_result"
    }
   ],
   "source": [
    "model.optimizer.lr =0.1\n",
    "model.fit([x1,x2,x3], y, batch_size=64, epochs=28)"
   ]
  },
  {
   "cell_type": "code",
   "execution_count": 96,
   "metadata": {
    "scrolled": true
   },
   "outputs": [
    {
     "name": "stdout",
     "output_type": "stream",
     "text": [
      "Epoch 1/28\n",
      "200297/200297 [==============================] - 15s - loss: 2.8414    \n",
      "Epoch 2/28\n",
      "200297/200297 [==============================] - 13s - loss: 2.8406    \n",
      "Epoch 3/28\n",
      "200297/200297 [==============================] - 14s - loss: 2.8398    \n",
      "Epoch 4/28\n",
      "200297/200297 [==============================] - 14s - loss: 2.8390    \n",
      "Epoch 5/28\n",
      "200297/200297 [==============================] - 14s - loss: 2.8382    \n",
      "Epoch 6/28\n",
      "200297/200297 [==============================] - 14s - loss: 2.8374    \n",
      "Epoch 7/28\n",
      "200297/200297 [==============================] - 13s - loss: 2.8366    \n",
      "Epoch 8/28\n",
      "200297/200297 [==============================] - 14s - loss: 2.8358    \n",
      "Epoch 9/28\n",
      "200297/200297 [==============================] - 14s - loss: 2.8350    \n",
      "Epoch 10/28\n",
      "200297/200297 [==============================] - 14s - loss: 2.8342    \n",
      "Epoch 11/28\n",
      "200297/200297 [==============================] - 13s - loss: 2.8334    \n",
      "Epoch 12/28\n",
      "200297/200297 [==============================] - 14s - loss: 2.8326    \n",
      "Epoch 13/28\n",
      "200297/200297 [==============================] - 14s - loss: 2.8318    \n",
      "Epoch 14/28\n",
      "200297/200297 [==============================] - 13s - loss: 2.8310    \n",
      "Epoch 15/28\n",
      "200297/200297 [==============================] - 14s - loss: 2.8302    \n",
      "Epoch 16/28\n",
      "200297/200297 [==============================] - 14s - loss: 2.8294    \n",
      "Epoch 17/28\n",
      "200297/200297 [==============================] - 13s - loss: 2.8286    \n",
      "Epoch 18/28\n",
      "200297/200297 [==============================] - 14s - loss: 2.8278    \n",
      "Epoch 19/28\n",
      "200297/200297 [==============================] - 13s - loss: 2.8270    \n",
      "Epoch 20/28\n",
      "200297/200297 [==============================] - 14s - loss: 2.8262    \n",
      "Epoch 21/28\n",
      "200297/200297 [==============================] - 14s - loss: 2.8254    \n",
      "Epoch 22/28\n",
      "200297/200297 [==============================] - 14s - loss: 2.8246    \n",
      "Epoch 23/28\n",
      "200297/200297 [==============================] - 13s - loss: 2.8238    \n",
      "Epoch 24/28\n",
      "200297/200297 [==============================] - 13s - loss: 2.8230    \n",
      "Epoch 25/28\n",
      "200297/200297 [==============================] - 14s - loss: 2.8222    \n",
      "Epoch 26/28\n",
      "200297/200297 [==============================] - 14s - loss: 2.8214    \n",
      "Epoch 27/28\n",
      "200297/200297 [==============================] - 14s - loss: 2.8206    \n",
      "Epoch 28/28\n",
      "200297/200297 [==============================] - 14s - loss: 2.8198    \n"
     ]
    },
    {
     "data": {
      "text/plain": [
       "<keras.callbacks.History at 0x41d9cd30>"
      ]
     },
     "execution_count": 96,
     "metadata": {},
     "output_type": "execute_result"
    }
   ],
   "source": [
    "model.optimizer.lr=0.1\n",
    "model.fit([x1,x2,x3], y, batch_size=64, epochs=28)"
   ]
  },
  {
   "cell_type": "code",
   "execution_count": 97,
   "metadata": {
    "scrolled": true
   },
   "outputs": [
    {
     "name": "stdout",
     "output_type": "stream",
     "text": [
      "Epoch 1/28\n",
      "200297/200297 [==============================] - 14s - loss: 2.8190    \n",
      "Epoch 2/28\n",
      "200297/200297 [==============================] - 14s - loss: 2.8182    \n",
      "Epoch 3/28\n",
      "200297/200297 [==============================] - 14s - loss: 2.8174    \n",
      "Epoch 4/28\n",
      "200297/200297 [==============================] - 14s - loss: 2.8166    \n",
      "Epoch 5/28\n",
      "200297/200297 [==============================] - 14s - loss: 2.8158    \n",
      "Epoch 6/28\n",
      "200297/200297 [==============================] - 14s - loss: 2.8150    \n",
      "Epoch 7/28\n",
      "200297/200297 [==============================] - 14s - loss: 2.8142    \n",
      "Epoch 8/28\n",
      "200297/200297 [==============================] - 14s - loss: 2.8134    \n",
      "Epoch 9/28\n",
      "200297/200297 [==============================] - 14s - loss: 2.8126    \n",
      "Epoch 10/28\n",
      "200297/200297 [==============================] - 14s - loss: 2.8118    \n",
      "Epoch 11/28\n",
      "200297/200297 [==============================] - 14s - loss: 2.8110    \n",
      "Epoch 12/28\n",
      "200297/200297 [==============================] - 14s - loss: 2.8102    \n",
      "Epoch 13/28\n",
      "200297/200297 [==============================] - 14s - loss: 2.8095    \n",
      "Epoch 14/28\n",
      "200297/200297 [==============================] - 13s - loss: 2.8087    \n",
      "Epoch 15/28\n",
      "200297/200297 [==============================] - 14s - loss: 2.8079    \n",
      "Epoch 16/28\n",
      "200297/200297 [==============================] - 14s - loss: 2.8071    \n",
      "Epoch 17/28\n",
      "200297/200297 [==============================] - 14s - loss: 2.8063    \n",
      "Epoch 18/28\n",
      "200297/200297 [==============================] - 14s - loss: 2.8055    \n",
      "Epoch 19/28\n",
      "200297/200297 [==============================] - 14s - loss: 2.8047    \n",
      "Epoch 20/28\n",
      "200297/200297 [==============================] - 14s - loss: 2.8039    \n",
      "Epoch 21/28\n",
      "200297/200297 [==============================] - 15s - loss: 2.8031    \n",
      "Epoch 22/28\n",
      "200297/200297 [==============================] - 14s - loss: 2.8024    \n",
      "Epoch 23/28\n",
      "200297/200297 [==============================] - 14s - loss: 2.8016    \n",
      "Epoch 24/28\n",
      "200297/200297 [==============================] - 13s - loss: 2.8008    \n",
      "Epoch 25/28\n",
      "200297/200297 [==============================] - 14s - loss: 2.8000    \n",
      "Epoch 26/28\n",
      "200297/200297 [==============================] - 14s - loss: 2.7992    \n",
      "Epoch 27/28\n",
      "200297/200297 [==============================] - 14s - loss: 2.7984    \n",
      "Epoch 28/28\n",
      "200297/200297 [==============================] - 14s - loss: 2.7976    \n"
     ]
    },
    {
     "data": {
      "text/plain": [
       "<keras.callbacks.History at 0x41d9c400>"
      ]
     },
     "execution_count": 97,
     "metadata": {},
     "output_type": "execute_result"
    }
   ],
   "source": [
    "model.optimizer.lr=0.01\n",
    "model.fit([x1,x2,x3], y, batch_size=64, epochs=28)"
   ]
  },
  {
   "cell_type": "code",
   "execution_count": 98,
   "metadata": {
    "scrolled": true
   },
   "outputs": [
    {
     "name": "stdout",
     "output_type": "stream",
     "text": [
      "Epoch 1/28\n",
      "200297/200297 [==============================] - 13s - loss: 2.7969    \n",
      "Epoch 2/28\n",
      "200297/200297 [==============================] - 13s - loss: 2.7961    \n",
      "Epoch 3/28\n",
      "200297/200297 [==============================] - 13s - loss: 2.7953    \n",
      "Epoch 4/28\n",
      "200297/200297 [==============================] - 14s - loss: 2.7945    \n",
      "Epoch 5/28\n",
      "200297/200297 [==============================] - 14s - loss: 2.7937    \n",
      "Epoch 6/28\n",
      "200297/200297 [==============================] - 13s - loss: 2.7930    \n",
      "Epoch 7/28\n",
      "200297/200297 [==============================] - 13s - loss: 2.7922    \n",
      "Epoch 8/28\n",
      "200297/200297 [==============================] - 14s - loss: 2.7914    \n",
      "Epoch 9/28\n",
      "200297/200297 [==============================] - 14s - loss: 2.7906    \n",
      "Epoch 10/28\n",
      "200297/200297 [==============================] - 14s - loss: 2.7898    \n",
      "Epoch 11/28\n",
      "200297/200297 [==============================] - 13s - loss: 2.7891    \n",
      "Epoch 12/28\n",
      "200297/200297 [==============================] - 14s - loss: 2.7883    \n",
      "Epoch 13/28\n",
      "200297/200297 [==============================] - 14s - loss: 2.7875    \n",
      "Epoch 14/28\n",
      "200297/200297 [==============================] - 13s - loss: 2.7867    \n",
      "Epoch 15/28\n",
      "200297/200297 [==============================] - 14s - loss: 2.7860    \n",
      "Epoch 16/28\n",
      "200297/200297 [==============================] - 14s - loss: 2.7852    \n",
      "Epoch 17/28\n",
      "200297/200297 [==============================] - 14s - loss: 2.7844    \n",
      "Epoch 18/28\n",
      "200297/200297 [==============================] - 13s - loss: 2.7836    \n",
      "Epoch 19/28\n",
      "200297/200297 [==============================] - 14s - loss: 2.7829    \n",
      "Epoch 20/28\n",
      "200297/200297 [==============================] - 14s - loss: 2.7821    \n",
      "Epoch 21/28\n",
      "200297/200297 [==============================] - 14s - loss: 2.7813    \n",
      "Epoch 22/28\n",
      "200297/200297 [==============================] - 14s - loss: 2.7806    \n",
      "Epoch 23/28\n",
      "200297/200297 [==============================] - 14s - loss: 2.7798    \n",
      "Epoch 24/28\n",
      "200297/200297 [==============================] - 14s - loss: 2.7790    \n",
      "Epoch 25/28\n",
      "200297/200297 [==============================] - 13s - loss: 2.7783    \n",
      "Epoch 26/28\n",
      "200297/200297 [==============================] - 13s - loss: 2.7775    \n",
      "Epoch 27/28\n",
      "200297/200297 [==============================] - 14s - loss: 2.7767    \n",
      "Epoch 28/28\n",
      "200297/200297 [==============================] - 13s - loss: 2.7760    \n"
     ]
    },
    {
     "data": {
      "text/plain": [
       "<keras.callbacks.History at 0x41d9c6a0>"
      ]
     },
     "execution_count": 98,
     "metadata": {},
     "output_type": "execute_result"
    }
   ],
   "source": [
    "model.optimizer.lr=0.0001\n",
    "model.fit([x1,x2,x3], y, batch_size=64, epochs=28)"
   ]
  },
  {
   "cell_type": "markdown",
   "metadata": {},
   "source": [
    "## Test Model"
   ]
  },
  {
   "cell_type": "code",
   "execution_count": 99,
   "metadata": {},
   "outputs": [],
   "source": [
    "def get_next(inp):\n",
    "    idxs = [char_indices[c] for c in inp]\n",
    "    arrs = [np.array(i)[np.newaxis] for i in idxs]\n",
    "    p = model.predict(arrs)\n",
    "    i = np.argmax(p)\n",
    "    return chars[i]"
   ]
  },
  {
   "cell_type": "code",
   "execution_count": 105,
   "metadata": {},
   "outputs": [
    {
     "data": {
      "text/plain": [
       "'t'"
      ]
     },
     "execution_count": 105,
     "metadata": {},
     "output_type": "execute_result"
    }
   ],
   "source": [
    "get_next('tr ')"
   ]
  },
  {
   "cell_type": "code",
   "execution_count": 108,
   "metadata": {},
   "outputs": [
    {
     "data": {
      "text/plain": [
       "'t'"
      ]
     },
     "execution_count": 108,
     "metadata": {},
     "output_type": "execute_result"
    }
   ],
   "source": [
    "get_next('th ')"
   ]
  },
  {
   "cell_type": "code",
   "execution_count": 109,
   "metadata": {},
   "outputs": [
    {
     "data": {
      "text/plain": [
       "'t'"
      ]
     },
     "execution_count": 109,
     "metadata": {},
     "output_type": "execute_result"
    }
   ],
   "source": [
    "get_next('an ')"
   ]
  },
  {
   "cell_type": "code",
   "execution_count": null,
   "metadata": {},
   "outputs": [],
   "source": []
  }
 ],
 "metadata": {
  "kernelspec": {
   "display_name": "Python 3",
   "language": "python",
   "name": "python3"
  },
  "language_info": {
   "codemirror_mode": {
    "name": "ipython",
    "version": 3
   },
   "file_extension": ".py",
   "mimetype": "text/x-python",
   "name": "python",
   "nbconvert_exporter": "python",
   "pygments_lexer": "ipython3",
   "version": "3.6.7"
  }
 },
 "nbformat": 4,
 "nbformat_minor": 2
}
