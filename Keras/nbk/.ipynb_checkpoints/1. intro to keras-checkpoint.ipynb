{
 "cells": [
  {
   "cell_type": "markdown",
   "metadata": {},
   "source": [
    "# Intro to Keras"
   ]
  },
  {
   "cell_type": "code",
   "execution_count": 2,
   "metadata": {},
   "outputs": [
    {
     "name": "stdout",
     "output_type": "stream",
     "text": [
      ":inear regression model is initialized with weights w: -0.94, b:0.00\n",
      "Epoch 1/30\n",
      "200/200 [==============================] - 0s 2ms/step - loss: 1.8192 - mean_squared_error: 1.8192\n",
      "Epoch 2/30\n",
      "200/200 [==============================] - 0s 990us/step - loss: 0.2048 - mean_squared_error: 0.2048\n",
      "Epoch 3/30\n",
      "200/200 [==============================] - 0s 840us/step - loss: 0.1959 - mean_squared_error: 0.1959\n",
      "Epoch 4/30\n",
      "200/200 [==============================] - 0s 960us/step - loss: 0.1877 - mean_squared_error: 0.1877\n",
      "Epoch 5/30\n",
      "200/200 [==============================] - 0s 940us/step - loss: 0.1801 - mean_squared_error: 0.1801\n",
      "Epoch 6/30\n",
      "200/200 [==============================] - 0s 825us/step - loss: 0.1732 - mean_squared_error: 0.1732\n",
      "Epoch 7/30\n",
      "200/200 [==============================] - 0s 835us/step - loss: 0.1668 - mean_squared_error: 0.1668\n",
      "Epoch 8/30\n",
      "200/200 [==============================] - 0s 820us/step - loss: 0.1609 - mean_squared_error: 0.1609\n",
      "Epoch 9/30\n",
      "200/200 [==============================] - 0s 825us/step - loss: 0.1555 - mean_squared_error: 0.1555\n",
      "Epoch 10/30\n",
      "200/200 [==============================] - 0s 825us/step - loss: 0.1505 - mean_squared_error: 0.1505\n",
      "Epoch 11/30\n",
      "200/200 [==============================] - 0s 865us/step - loss: 0.1459 - mean_squared_error: 0.1459\n",
      "Epoch 12/30\n",
      "200/200 [==============================] - 0s 890us/step - loss: 0.1417 - mean_squared_error: 0.1417\n",
      "Epoch 13/30\n",
      "200/200 [==============================] - 0s 895us/step - loss: 0.1378 - mean_squared_error: 0.1378\n",
      "Epoch 14/30\n",
      "200/200 [==============================] - 0s 830us/step - loss: 0.1342 - mean_squared_error: 0.1342\n",
      "Epoch 15/30\n",
      "200/200 [==============================] - 0s 830us/step - loss: 0.1309 - mean_squared_error: 0.1309\n",
      "Epoch 16/30\n",
      "200/200 [==============================] - 0s 840us/step - loss: 0.1278 - mean_squared_error: 0.1278\n",
      "Epoch 17/30\n",
      "200/200 [==============================] - 0s 825us/step - loss: 0.1250 - mean_squared_error: 0.1250\n",
      "Epoch 18/30\n",
      "200/200 [==============================] - 0s 830us/step - loss: 0.1224 - mean_squared_error: 0.1224\n",
      "Epoch 19/30\n",
      "200/200 [==============================] - 0s 875us/step - loss: 0.1201 - mean_squared_error: 0.1201\n",
      "Epoch 20/30\n",
      "200/200 [==============================] - 0s 825us/step - loss: 0.1179 - mean_squared_error: 0.1179\n",
      "Epoch 21/30\n",
      "200/200 [==============================] - 0s 830us/step - loss: 0.1159 - mean_squared_error: 0.1159\n",
      "Epoch 22/30\n",
      "200/200 [==============================] - 0s 840us/step - loss: 0.1140 - mean_squared_error: 0.1140\n",
      "Epoch 23/30\n",
      "200/200 [==============================] - 0s 870us/step - loss: 0.1123 - mean_squared_error: 0.1123\n",
      "Epoch 24/30\n",
      "200/200 [==============================] - 0s 885us/step - loss: 0.1107 - mean_squared_error: 0.1107\n",
      "Epoch 25/30\n",
      "200/200 [==============================] - 0s 880us/step - loss: 0.1093 - mean_squared_error: 0.1093\n",
      "Epoch 26/30\n",
      "200/200 [==============================] - 0s 860us/step - loss: 0.1079 - mean_squared_error: 0.1079\n",
      "Epoch 27/30\n",
      "200/200 [==============================] - 0s 905us/step - loss: 0.1067 - mean_squared_error: 0.1067\n",
      "Epoch 28/30\n",
      "200/200 [==============================] - 0s 850us/step - loss: 0.1055 - mean_squared_error: 0.1055\n",
      "Epoch 29/30\n",
      "200/200 [==============================] - 0s 840us/step - loss: 0.1045 - mean_squared_error: 0.1045\n",
      "Epoch 30/30\n",
      "200/200 [==============================] - 0s 860us/step - loss: 0.1035 - mean_squared_error: 0.1035\n",
      "Linear regression model is trained to have weight w: 3.53, b: 0.90\n"
     ]
    },
    {
     "data": {
      "text/plain": [
       "<Figure size 640x480 with 1 Axes>"
      ]
     },
     "metadata": {},
     "output_type": "display_data"
    }
   ],
   "source": [
    "import keras\n",
    "from keras.models import Sequential\n",
    "from keras.layers import Dense, Activation\n",
    "import numpy as np\n",
    "import matplotlib.pyplot as plt\n",
    "\n",
    "x = data = np.linspace(1,2,200)\n",
    "y= x*4 + np.random.randn(*x.shape) * 0.3\n",
    "\n",
    "\n",
    "model = Sequential()\n",
    "# model.add(Dense(64, activation='relu', input_dim=50)) #input shape of 50\n",
    "# model.add(Dense(28, activation='relu')) #input shape of 50\n",
    "# model.add(Dense(10, activation='softmax'))\n",
    "\n",
    "model.add(Dense(1, input_dim = 1, activation='linear'))\n",
    "\n",
    "model.compile(optimizer='sgd', loss='mse', metrics=['mse'])\n",
    "\n",
    "weights = model.layers[0].get_weights()\n",
    "w_init = weights[0][0][0]\n",
    "b_init = weights[1][0]\n",
    "print(':inear regression model is initialized with weights w: %.2f, b:%.2f'%(w_init, b_init))\n",
    "\n",
    "\n",
    "model.fit(x,y, batch_size=1, epochs=30, shuffle=False)\n",
    "\n",
    "weights = model.layers[0].get_weights()\n",
    "w_final = weights[0][0][0]\n",
    "b_final = weights[1][0]\n",
    "print('Linear regression model is trained to have weight w: %.2f, b: %.2f' % (w_final, b_final))\n",
    "\n",
    "predict = model.predict(data)\n",
    "\n"
   ]
  },
  {
   "cell_type": "code",
   "execution_count": 3,
   "metadata": {},
   "outputs": [
    {
     "data": {
      "image/png": "[encoded data removed]",
      "text/plain": [
       "<Figure size 432x288 with 1 Axes>"
      ]
     },
     "metadata": {
      "needs_background": "light"
     },
     "output_type": "display_data"
    }
   ],
   "source": [
    "plt.plot(data, predict, 'b', data, y, 'k.')\n",
    "plt.show()"
   ]
  },
  {
   "cell_type": "markdown",
   "metadata": {},
   "source": [
    "#### Creating our Model from VGG16"
   ]
  },
  {
   "cell_type": "code",
   "execution_count": 7,
   "metadata": {},
   "outputs": [
    {
     "ename": "NameError",
     "evalue": "name 'image_size' is not defined",
     "output_type": "error",
     "traceback": [
      "\u001b[1;31m---------------------------------------------------------------------------\u001b[0m",
      "\u001b[1;31mNameError\u001b[0m                                 Traceback (most recent call last)",
      "\u001b[1;32m<ipython-input-7-a61672c4856c>\u001b[0m in \u001b[0;36m<module>\u001b[1;34m\u001b[0m\n\u001b[0;32m      6\u001b[0m \u001b[1;33m\u001b[0m\u001b[0m\n\u001b[0;32m      7\u001b[0m \u001b[1;31m#Load the VGG model\u001b[0m\u001b[1;33m\u001b[0m\u001b[1;33m\u001b[0m\u001b[1;33m\u001b[0m\u001b[0m\n\u001b[1;32m----> 8\u001b[1;33m \u001b[0mbase_model\u001b[0m \u001b[1;33m=\u001b[0m \u001b[0mVGG16\u001b[0m\u001b[1;33m(\u001b[0m\u001b[0mweights\u001b[0m\u001b[1;33m=\u001b[0m\u001b[1;34m'imagenet'\u001b[0m\u001b[1;33m,\u001b[0m \u001b[0minclude_top\u001b[0m\u001b[1;33m=\u001b[0m\u001b[1;32mFalse\u001b[0m\u001b[1;33m,\u001b[0m \u001b[0minput_shape\u001b[0m\u001b[1;33m=\u001b[0m\u001b[1;33m(\u001b[0m\u001b[0mimage_size\u001b[0m\u001b[1;33m,\u001b[0m \u001b[0mimage_size\u001b[0m\u001b[1;33m,\u001b[0m \u001b[1;36m3\u001b[0m\u001b[1;33m)\u001b[0m\u001b[1;33m)\u001b[0m\u001b[1;33m\u001b[0m\u001b[1;33m\u001b[0m\u001b[0m\n\u001b[0m\u001b[0;32m      9\u001b[0m \u001b[1;33m\u001b[0m\u001b[0m\n\u001b[0;32m     10\u001b[0m \u001b[0mprint\u001b[0m\u001b[1;33m(\u001b[0m\u001b[0mbase_model\u001b[0m\u001b[1;33m.\u001b[0m\u001b[0msummary\u001b[0m\u001b[1;33m(\u001b[0m\u001b[1;33m)\u001b[0m\u001b[1;33m)\u001b[0m\u001b[1;33m\u001b[0m\u001b[1;33m\u001b[0m\u001b[0m\n",
      "\u001b[1;31mNameError\u001b[0m: name 'image_size' is not defined"
     ]
    }
   ],
   "source": [
    "from keras.models import Model, load_model\n",
    "from keras.layers import Activation, Dropout, Flatten, Dense\n",
    "from keras.preprocessing.image import ImageDataGenerator\n",
    "from keras.applications.vgg16 import VGG16\n",
    "\n",
    "\n",
    "#Load the VGG model\n",
    "base_model = VGG16(weights='imagenet', include_top=False, input_shape=(image_size, image_size, 3))\n",
    "\n",
    "print(base_model.summary())\n",
    "\n",
    "# Freeze the layers\n",
    "for layer in base_model.layers:\n",
    "    layer.trainable = False\n",
    "    \n",
    "## Create the model\n",
    "model = keras.models.Sequential()\n",
    "\n",
    "## Add the vgg convolutional base model\n",
    "model.add(base_model)\n",
    "\n",
    "## Add new layers\n",
    "model.add(Flatten())\n",
    "model.add(Dense(1024, activation='relu'))\n",
    "model.add(Dense(1024, activation='relu'))\n",
    "model.add(Dense(num_class, activation='softmax'))\n",
    "\n",
    "## Show a summary of the model. Check the number of trainable parameters\n",
    "print(model.summary())\n",
    "\n"
   ]
  },
  {
   "cell_type": "code",
   "execution_count": 1,
   "metadata": {},
   "outputs": [
    {
     "name": "stdout",
     "output_type": "stream",
     "text": [
      "Requirement already satisfied: jupyterthemes in d:\\miniconda\\envs\\model\\lib\\site-packages (0.20.0)\n",
      "Requirement already satisfied: notebook>=5.6.0 in d:\\miniconda\\envs\\model\\lib\\site-packages (from jupyterthemes) (5.7.0)\n",
      "Requirement already satisfied: ipython>=5.4.1 in d:\\miniconda\\envs\\model\\lib\\site-packages (from jupyterthemes) (7.0.1)\n",
      "Requirement already satisfied: lesscpy>=0.11.2 in d:\\miniconda\\envs\\model\\lib\\site-packages (from jupyterthemes) (0.13.0)\n",
      "Requirement already satisfied: matplotlib>=1.4.3 in d:\\miniconda\\envs\\model\\lib\\site-packages (from jupyterthemes) (2.2.2)\n",
      "Requirement already satisfied: jupyter-core in d:\\miniconda\\envs\\model\\lib\\site-packages (from jupyterthemes) (4.5.0)\n",
      "Requirement already satisfied: ipython-genutils in d:\\miniconda\\envs\\model\\lib\\site-packages (from notebook>=5.6.0->jupyterthemes) (0.2.0)\n",
      "Requirement already satisfied: nbformat in d:\\miniconda\\envs\\model\\lib\\site-packages (from notebook>=5.6.0->jupyterthemes) (4.4.0)\n",
      "Requirement already satisfied: traitlets>=4.2.1 in d:\\miniconda\\envs\\model\\lib\\site-packages (from notebook>=5.6.0->jupyterthemes) (4.3.2)\n",
      "Requirement already satisfied: Send2Trash in d:\\miniconda\\envs\\model\\lib\\site-packages (from notebook>=5.6.0->jupyterthemes) (1.5.0)\n",
      "Requirement already satisfied: jupyter-client>=5.2.0 in d:\\miniconda\\envs\\model\\lib\\site-packages (from notebook>=5.6.0->jupyterthemes) (5.2.3)\n",
      "Requirement already satisfied: prometheus-client in d:\\miniconda\\envs\\model\\lib\\site-packages (from notebook>=5.6.0->jupyterthemes) (0.4.2)\n",
      "Requirement already satisfied: jinja2 in d:\\miniconda\\envs\\model\\lib\\site-packages (from notebook>=5.6.0->jupyterthemes) (2.10)\n",
      "Requirement already satisfied: terminado>=0.8.1 in d:\\miniconda\\envs\\model\\lib\\site-packages (from notebook>=5.6.0->jupyterthemes) (0.8.1)\n",
      "Requirement already satisfied: ipykernel in d:\\miniconda\\envs\\model\\lib\\site-packages (from notebook>=5.6.0->jupyterthemes) (5.1.0)\n",
      "Requirement already satisfied: tornado>=4 in d:\\miniconda\\envs\\model\\lib\\site-packages (from notebook>=5.6.0->jupyterthemes) (5.1.1)\n",
      "Requirement already satisfied: pyzmq>=17 in d:\\miniconda\\envs\\model\\lib\\site-packages (from notebook>=5.6.0->jupyterthemes) (17.1.2)\n",
      "Requirement already satisfied: nbconvert in d:\\miniconda\\envs\\model\\lib\\site-packages (from notebook>=5.6.0->jupyterthemes) (5.3.1)\n",
      "Requirement already satisfied: colorama; sys_platform == \"win32\" in d:\\miniconda\\envs\\model\\lib\\site-packages (from ipython>=5.4.1->jupyterthemes) (0.3.9)\n",
      "Requirement already satisfied: simplegeneric>0.8 in d:\\miniconda\\envs\\model\\lib\\site-packages (from ipython>=5.4.1->jupyterthemes) (0.8.1)\n",
      "Requirement already satisfied: pygments in d:\\miniconda\\envs\\model\\lib\\site-packages (from ipython>=5.4.1->jupyterthemes) (2.2.0)\n",
      "Requirement already satisfied: setuptools>=18.5 in d:\\miniconda\\envs\\model\\lib\\site-packages (from ipython>=5.4.1->jupyterthemes) (39.1.0)\n",
      "Requirement already satisfied: prompt-toolkit<2.1.0,>=2.0.0 in d:\\miniconda\\envs\\model\\lib\\site-packages (from ipython>=5.4.1->jupyterthemes) (2.0.6)\n",
      "Requirement already satisfied: pickleshare in d:\\miniconda\\envs\\model\\lib\\site-packages (from ipython>=5.4.1->jupyterthemes) (0.7.5)\n",
      "Requirement already satisfied: jedi>=0.10 in d:\\miniconda\\envs\\model\\lib\\site-packages (from ipython>=5.4.1->jupyterthemes) (0.13.1)\n",
      "Requirement already satisfied: decorator in d:\\miniconda\\envs\\model\\lib\\site-packages (from ipython>=5.4.1->jupyterthemes) (4.3.0)\n",
      "Requirement already satisfied: backcall in d:\\miniconda\\envs\\model\\lib\\site-packages (from ipython>=5.4.1->jupyterthemes) (0.1.0)\n",
      "Requirement already satisfied: six in d:\\miniconda\\envs\\model\\lib\\site-packages (from lesscpy>=0.11.2->jupyterthemes) (1.11.0)\n",
      "Requirement already satisfied: ply in d:\\miniconda\\envs\\model\\lib\\site-packages (from lesscpy>=0.11.2->jupyterthemes) (3.11)\n",
      "Requirement already satisfied: numpy>=1.7.1 in d:\\miniconda\\envs\\model\\lib\\site-packages (from matplotlib>=1.4.3->jupyterthemes) (1.14.5)\n",
      "Requirement already satisfied: cycler>=0.10 in d:\\miniconda\\envs\\model\\lib\\site-packages (from matplotlib>=1.4.3->jupyterthemes) (0.10.0)\n",
      "Requirement already satisfied: pyparsing!=2.0.4,!=2.1.2,!=2.1.6,>=2.0.1 in d:\\miniconda\\envs\\model\\lib\\site-packages (from matplotlib>=1.4.3->jupyterthemes) (2.2.2)\n",
      "Requirement already satisfied: python-dateutil>=2.1 in d:\\miniconda\\envs\\model\\lib\\site-packages (from matplotlib>=1.4.3->jupyterthemes) (2.7.3)\n",
      "Requirement already satisfied: pytz in d:\\miniconda\\envs\\model\\lib\\site-packages (from matplotlib>=1.4.3->jupyterthemes) (2018.5)\n",
      "Requirement already satisfied: kiwisolver>=1.0.1 in d:\\miniconda\\envs\\model\\lib\\site-packages (from matplotlib>=1.4.3->jupyterthemes) (1.0.1)\n",
      "Requirement already satisfied: jsonschema!=2.5.0,>=2.4 in d:\\miniconda\\envs\\model\\lib\\site-packages (from nbformat->notebook>=5.6.0->jupyterthemes) (2.6.0)\n",
      "Requirement already satisfied: MarkupSafe>=0.23 in d:\\miniconda\\envs\\model\\lib\\site-packages (from jinja2->notebook>=5.6.0->jupyterthemes) (1.0)\n",
      "Requirement already satisfied: pandocfilters>=1.4.1 in d:\\miniconda\\envs\\model\\lib\\site-packages (from nbconvert->notebook>=5.6.0->jupyterthemes) (1.4.2)\n",
      "Requirement already satisfied: mistune>=0.7.4 in d:\\miniconda\\envs\\model\\lib\\site-packages (from nbconvert->notebook>=5.6.0->jupyterthemes) (0.8.4)\n",
      "Requirement already satisfied: entrypoints>=0.2.2 in d:\\miniconda\\envs\\model\\lib\\site-packages (from nbconvert->notebook>=5.6.0->jupyterthemes) (0.2.3)\n",
      "Requirement already satisfied: bleach in d:\\miniconda\\envs\\model\\lib\\site-packages (from nbconvert->notebook>=5.6.0->jupyterthemes) (2.0.0)\n",
      "Requirement already satisfied: testpath in d:\\miniconda\\envs\\model\\lib\\site-packages (from nbconvert->notebook>=5.6.0->jupyterthemes) (0.4.2)\n",
      "Requirement already satisfied: wcwidth in d:\\miniconda\\envs\\model\\lib\\site-packages (from prompt-toolkit<2.1.0,>=2.0.0->ipython>=5.4.1->jupyterthemes) (0.1.7)\n",
      "Requirement already satisfied: parso>=0.3.0 in d:\\miniconda\\envs\\model\\lib\\site-packages (from jedi>=0.10->ipython>=5.4.1->jupyterthemes) (0.3.1)\n",
      "Requirement already satisfied: html5lib>=0.99999999 in d:\\miniconda\\envs\\model\\lib\\site-packages (from bleach->nbconvert->notebook>=5.6.0->jupyterthemes) (1.0.1)\n",
      "Requirement already satisfied: webencodings in d:\\miniconda\\envs\\model\\lib\\site-packages (from html5lib>=0.99999999->bleach->nbconvert->notebook>=5.6.0->jupyterthemes) (0.5.1)\n"
     ]
    },
    {
     "name": "stderr",
     "output_type": "stream",
     "text": [
      "WARNING: You are using pip version 19.2.1, however version 19.2.2 is available.\n",
      "You should consider upgrading via the 'python -m pip install --upgrade pip' command.\n"
     ]
    }
   ],
   "source": [
    "!pip install jupyterthemes"
   ]
  },
  {
   "cell_type": "code",
   "execution_count": 1,
   "metadata": {},
   "outputs": [],
   "source": [
    "! jt -t grade3"
   ]
  },
  {
   "cell_type": "code",
   "execution_count": 2,
   "metadata": {
    "scrolled": false
   },
   "outputs": [],
   "source": [
    "! jt -T"
   ]
  },
  {
   "cell_type": "code",
   "execution_count": 1,
   "metadata": {},
   "outputs": [
    {
     "name": "stdout",
     "output_type": "stream",
     "text": [
      "usage: jt [-h] [-l] [-t THEME] [-f MONOFONT] [-fs MONOSIZE] [-nf NBFONT]\n",
      "          [-nfs NBFONTSIZE] [-tf TCFONT] [-tfs TCFONTSIZE] [-dfs DFFONTSIZE]\n",
      "          [-ofs OUTFONTSIZE] [-mathfs MATHFONTSIZE] [-m MARGINS]\n",
      "          [-cursw CURSORWIDTH] [-cursc CURSORCOLOR] [-cellw CELLWIDTH]\n",
      "          [-lineh LINEHEIGHT] [-altp] [-altmd] [-altout] [-P] [-T] [-N] [-kl]\n",
      "          [-vim] [-r] [-dfonts]\n",
      "\n",
      "optional arguments:\n",
      "  -h, --help            show this help message and exit\n",
      "  -l, --list            list available themes\n",
      "  -t THEME, --theme THEME\n",
      "                        theme name to install\n",
      "  -f MONOFONT, --monofont MONOFONT\n",
      "                        monospace code font\n",
      "  -fs MONOSIZE, --monosize MONOSIZE\n",
      "                        code font-size\n",
      "  -nf NBFONT, --nbfont NBFONT\n",
      "                        notebook font\n",
      "  -nfs NBFONTSIZE, --nbfontsize NBFONTSIZE\n",
      "                        notebook fontsize\n",
      "  -tf TCFONT, --tcfont TCFONT\n",
      "                        txtcell font\n",
      "  -tfs TCFONTSIZE, --tcfontsize TCFONTSIZE\n",
      "                        txtcell fontsize\n",
      "  -dfs DFFONTSIZE, --dffontsize DFFONTSIZE\n",
      "                        pandas dataframe fontsize\n",
      "  -ofs OUTFONTSIZE, --outfontsize OUTFONTSIZE\n",
      "                        output area fontsize\n",
      "  -mathfs MATHFONTSIZE, --mathfontsize MATHFONTSIZE\n",
      "                        mathjax fontsize (in %)\n",
      "  -m MARGINS, --margins MARGINS\n",
      "                        fix margins of main intro page\n",
      "  -cursw CURSORWIDTH, --cursorwidth CURSORWIDTH\n",
      "                        set cursorwidth (px)\n",
      "  -cursc CURSORCOLOR, --cursorcolor CURSORCOLOR\n",
      "                        cursor color (r, b, g, p)\n",
      "  -cellw CELLWIDTH, --cellwidth CELLWIDTH\n",
      "                        set cell width (px or %)\n",
      "  -lineh LINEHEIGHT, --lineheight LINEHEIGHT\n",
      "                        code/text line-height (%)\n",
      "  -altp, --altprompt    alt input prompt style\n",
      "  -altmd, --altmarkdown\n",
      "                        alt markdown cell style\n",
      "  -altout, --altoutput  set output bg color to notebook bg\n",
      "  -P, --hideprompt      hide cell input prompt\n",
      "  -T, --toolbar         make toolbar visible\n",
      "  -N, --nbname          nb name/logo visible\n",
      "  -kl, --kernellogo     kernel logo visible\n",
      "  -vim, --vimext        toggle styles for vim\n",
      "  -r, --reset           reset to default theme\n",
      "  -dfonts, --defaultfonts\n",
      "                        force fonts to browser default\n"
     ]
    }
   ],
   "source": [
    "! jt -h"
   ]
  },
  {
   "cell_type": "code",
   "execution_count": 1,
   "metadata": {
    "tags": [
     "test"
    ]
   },
   "outputs": [
    {
     "name": "stdout",
     "output_type": "stream",
     "text": [
      "Available Themes: \n",
      "   chesterish\n",
      "   grade3\n",
      "   gruvboxd\n",
      "   gruvboxl\n",
      "   monokai\n",
      "   oceans16\n",
      "   onedork\n",
      "   solarizedd\n",
      "   solarizedl\n"
     ]
    }
   ],
   "source": [
    "! jt -l"
   ]
  },
  {
   "cell_type": "code",
   "execution_count": 3,
   "metadata": {},
   "outputs": [],
   "source": [
    "! jt -t monokai"
   ]
  },
  {
   "cell_type": "code",
   "execution_count": 1,
   "metadata": {},
   "outputs": [],
   "source": [
    "#-fs 95 -altp -tfs 11 -nfs 115 -cellw 88% -T"
   ]
  },
  {
   "cell_type": "code",
   "execution_count": 2,
   "metadata": {},
   "outputs": [],
   "source": []
  },
  {
   "cell_type": "code",
   "execution_count": null,
   "metadata": {},
   "outputs": [],
   "source": []
  }
 ],
 "metadata": {
  "kernelspec": {
   "display_name": "Python 3",
   "language": "python",
   "name": "python3"
  },
  "language_info": {
   "codemirror_mode": {
    "name": "ipython",
    "version": 3
   },
   "file_extension": ".py",
   "mimetype": "text/x-python",
   "name": "python",
   "nbconvert_exporter": "python",
   "pygments_lexer": "ipython3",
   "version": "3.6.7"
  }
 },
 "nbformat": 4,
 "nbformat_minor": 2
}
